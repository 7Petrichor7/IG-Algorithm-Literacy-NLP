{
  "cells": [
    {
      "cell_type": "markdown",
      "source": [
        "#Sense-making NLP Project"
      ],
      "metadata": {
        "id": "Up-FktTRABSX"
      },
      "id": "Up-FktTRABSX"
    },
    {
      "cell_type": "code",
      "execution_count": null,
      "id": "ae06d849",
      "metadata": {
        "id": "ae06d849"
      },
      "outputs": [],
      "source": [
        "#imports\n",
        "import pandas as pd\n",
        "import numpy as np\n",
        "import matplotlib.pyplot as plt\n",
        "import seaborn as sns\n",
        "sns.set_palette('hls',12)\n",
        "from sklearn.model_selection import train_test_split\n",
        "from sklearn.linear_model import LogisticRegression\n",
        "from sklearn.feature_extraction.text import CountVectorizer,TfidfVectorizer\n",
        "from sklearn.metrics import accuracy_score\n",
        "from sklearn.metrics import confusion_matrix, ConfusionMatrixDisplay\n",
        "from sklearn.metrics import f1_score\n",
        "import matplotlib.pyplot as plt "
      ]
    },
    {
      "cell_type": "markdown",
      "id": "3afea1f7",
      "metadata": {
        "id": "3afea1f7"
      },
      "source": [
        "# Data\n",
        "\n",
        "We collected data from reddit from 2011-2021 with a PushShift scrape of \"instagram algorithm\" \"ig algorithm\" and \"ig algo\". We then narrowed our data to the top subreddits in the collection, as there was a lot of random crap. Here are the comment threads as well as original posts (unlinked at this time) that we labeled. While we tried to go back and agree, some are still unclean. They are multilabel, with the order mattering. We labeled as sensemaking, problem, or advertisment (ad). For exploratory purposes, label1 is likely the cleanest."
      ]
    },
    {
      "cell_type": "code",
      "execution_count": null,
      "id": "b159d1fa",
      "metadata": {
        "id": "b159d1fa"
      },
      "outputs": [],
      "source": [
        "comments = pd.read_csv(\"sample_data/comments_labeled.csv\")\n",
        "submissions = pd.read_csv(\"sample_data/submissions_labeled.csv\")\n",
        "comments.rename(columns={'Label..Yim': 'label1', 'Label...Dev': 'label2', 'Label...Joseph': 'label3','Label...Xiaobing': 'label4', 'Label...Nayan': 'label5'}, inplace=True)\n",
        "submissions.rename(columns={'Label..Yim': 'label1', 'Label...Dev': 'label2', 'Label...Joseph': 'label3','Label...Xiaobing': 'label4'}, inplace=True)\n",
        "\n",
        "comments[\"Type\"] = \"comments\"\n",
        "submissions[\"Type\"] = \"submissions\"\n",
        "\n",
        "data = pd.DataFrame(pd.concat([comments,submissions]))\n"
      ]
    },
    {
      "cell_type": "code",
      "execution_count": null,
      "id": "d25d6893",
      "metadata": {
        "colab": {
          "base_uri": "https://localhost:8080/",
          "height": 737
        },
        "id": "d25d6893",
        "outputId": "d0374e8b-2c65-49cb-e358-3c0c7efac851"
      },
      "outputs": [
        {
          "output_type": "execute_result",
          "data": {
            "text/plain": [
              "     N                                               Post           Subreddit  \\\n",
              "0  705  Hey so for whatever reason when pulling in dat...           Instagram   \n",
              "1  704  the instagram algorithm prioritises accounts w...           Instagram   \n",
              "2  701  This is why so many instagram famous artists s...        ArtistLounge   \n",
              "3  699  Poor girl, she's probably just trying to help ...         thebachelor   \n",
              "4  698  Hmm it could be to lower the bar for others to...         thebachelor   \n",
              "5  697  I really think it’s about the Instagram algori...         thebachelor   \n",
              "6  694  100% true. I could easily pump out art day aft...        ArtistLounge   \n",
              "7  687  I have researched the Instagram algorithm earl...  InstagramMarketing   \n",
              "8  685  I’ve tried several and I cant even remember th...           Instagram   \n",
              "9  677  Your work isn't bad at all. You know what you'...        ArtistLounge   \n",
              "\n",
              "                 Keyword label5    Date_UTC                 Date       label4  \\\n",
              "0  \"instagram algorithm\"    NaN  1609645939   2021-01-03 3:52:19  sensemaking   \n",
              "1  \"instagram algorithm\"    NaN  1609696209  2021-01-03 17:50:09  sensemaking   \n",
              "2  \"instagram algorithm\"    NaN  1609757800  2021-01-04 10:56:40  sensemaking   \n",
              "3  \"instagram algorithm\"    NaN  1609787177  2021-01-04 19:06:17  sensemaking   \n",
              "4  \"instagram algorithm\"    NaN  1609795460  2021-01-04 21:24:20  sensemaking   \n",
              "5  \"instagram algorithm\"    NaN  1609795718  2021-01-04 21:28:38  sensemaking   \n",
              "6  \"instagram algorithm\"    NaN  1609859068  2021-01-05 15:04:28      problem   \n",
              "7  \"instagram algorithm\"    NaN  1610177693   2021-01-09 7:34:53  sensemaking   \n",
              "8  \"instagram algorithm\"    NaN  1610199919  2021-01-09 13:45:19      problem   \n",
              "9  \"instagram algorithm\"    NaN  1610408074  2021-01-11 23:34:34  sensemaking   \n",
              "\n",
              "        label2        label3      Type label1 Title  \n",
              "0          NaN           NaN  comments    NaN   NaN  \n",
              "1          NaN           NaN  comments    NaN   NaN  \n",
              "2          NaN           NaN  comments    NaN   NaN  \n",
              "3  sensemaking  sensemaking   comments    NaN   NaN  \n",
              "4          NaN           NaN  comments    NaN   NaN  \n",
              "5          NaN           NaN  comments    NaN   NaN  \n",
              "6      problem      problem   comments    NaN   NaN  \n",
              "7          NaN           NaN  comments    NaN   NaN  \n",
              "8          NaN           NaN  comments    NaN   NaN  \n",
              "9          NaN           NaN  comments    NaN   NaN  "
            ],
            "text/html": [
              "\n",
              "  <div id=\"df-48d004f7-64d2-45a6-a073-ba8fa8c423ad\">\n",
              "    <div class=\"colab-df-container\">\n",
              "      <div>\n",
              "<style scoped>\n",
              "    .dataframe tbody tr th:only-of-type {\n",
              "        vertical-align: middle;\n",
              "    }\n",
              "\n",
              "    .dataframe tbody tr th {\n",
              "        vertical-align: top;\n",
              "    }\n",
              "\n",
              "    .dataframe thead th {\n",
              "        text-align: right;\n",
              "    }\n",
              "</style>\n",
              "<table border=\"1\" class=\"dataframe\">\n",
              "  <thead>\n",
              "    <tr style=\"text-align: right;\">\n",
              "      <th></th>\n",
              "      <th>N</th>\n",
              "      <th>Post</th>\n",
              "      <th>Subreddit</th>\n",
              "      <th>Keyword</th>\n",
              "      <th>label5</th>\n",
              "      <th>Date_UTC</th>\n",
              "      <th>Date</th>\n",
              "      <th>label4</th>\n",
              "      <th>label2</th>\n",
              "      <th>label3</th>\n",
              "      <th>Type</th>\n",
              "      <th>label1</th>\n",
              "      <th>Title</th>\n",
              "    </tr>\n",
              "  </thead>\n",
              "  <tbody>\n",
              "    <tr>\n",
              "      <th>0</th>\n",
              "      <td>705</td>\n",
              "      <td>Hey so for whatever reason when pulling in dat...</td>\n",
              "      <td>Instagram</td>\n",
              "      <td>\"instagram algorithm\"</td>\n",
              "      <td>NaN</td>\n",
              "      <td>1609645939</td>\n",
              "      <td>2021-01-03 3:52:19</td>\n",
              "      <td>sensemaking</td>\n",
              "      <td>NaN</td>\n",
              "      <td>NaN</td>\n",
              "      <td>comments</td>\n",
              "      <td>NaN</td>\n",
              "      <td>NaN</td>\n",
              "    </tr>\n",
              "    <tr>\n",
              "      <th>1</th>\n",
              "      <td>704</td>\n",
              "      <td>the instagram algorithm prioritises accounts w...</td>\n",
              "      <td>Instagram</td>\n",
              "      <td>\"instagram algorithm\"</td>\n",
              "      <td>NaN</td>\n",
              "      <td>1609696209</td>\n",
              "      <td>2021-01-03 17:50:09</td>\n",
              "      <td>sensemaking</td>\n",
              "      <td>NaN</td>\n",
              "      <td>NaN</td>\n",
              "      <td>comments</td>\n",
              "      <td>NaN</td>\n",
              "      <td>NaN</td>\n",
              "    </tr>\n",
              "    <tr>\n",
              "      <th>2</th>\n",
              "      <td>701</td>\n",
              "      <td>This is why so many instagram famous artists s...</td>\n",
              "      <td>ArtistLounge</td>\n",
              "      <td>\"instagram algorithm\"</td>\n",
              "      <td>NaN</td>\n",
              "      <td>1609757800</td>\n",
              "      <td>2021-01-04 10:56:40</td>\n",
              "      <td>sensemaking</td>\n",
              "      <td>NaN</td>\n",
              "      <td>NaN</td>\n",
              "      <td>comments</td>\n",
              "      <td>NaN</td>\n",
              "      <td>NaN</td>\n",
              "    </tr>\n",
              "    <tr>\n",
              "      <th>3</th>\n",
              "      <td>699</td>\n",
              "      <td>Poor girl, she's probably just trying to help ...</td>\n",
              "      <td>thebachelor</td>\n",
              "      <td>\"instagram algorithm\"</td>\n",
              "      <td>NaN</td>\n",
              "      <td>1609787177</td>\n",
              "      <td>2021-01-04 19:06:17</td>\n",
              "      <td>sensemaking</td>\n",
              "      <td>sensemaking</td>\n",
              "      <td>sensemaking</td>\n",
              "      <td>comments</td>\n",
              "      <td>NaN</td>\n",
              "      <td>NaN</td>\n",
              "    </tr>\n",
              "    <tr>\n",
              "      <th>4</th>\n",
              "      <td>698</td>\n",
              "      <td>Hmm it could be to lower the bar for others to...</td>\n",
              "      <td>thebachelor</td>\n",
              "      <td>\"instagram algorithm\"</td>\n",
              "      <td>NaN</td>\n",
              "      <td>1609795460</td>\n",
              "      <td>2021-01-04 21:24:20</td>\n",
              "      <td>sensemaking</td>\n",
              "      <td>NaN</td>\n",
              "      <td>NaN</td>\n",
              "      <td>comments</td>\n",
              "      <td>NaN</td>\n",
              "      <td>NaN</td>\n",
              "    </tr>\n",
              "    <tr>\n",
              "      <th>5</th>\n",
              "      <td>697</td>\n",
              "      <td>I really think it’s about the Instagram algori...</td>\n",
              "      <td>thebachelor</td>\n",
              "      <td>\"instagram algorithm\"</td>\n",
              "      <td>NaN</td>\n",
              "      <td>1609795718</td>\n",
              "      <td>2021-01-04 21:28:38</td>\n",
              "      <td>sensemaking</td>\n",
              "      <td>NaN</td>\n",
              "      <td>NaN</td>\n",
              "      <td>comments</td>\n",
              "      <td>NaN</td>\n",
              "      <td>NaN</td>\n",
              "    </tr>\n",
              "    <tr>\n",
              "      <th>6</th>\n",
              "      <td>694</td>\n",
              "      <td>100% true. I could easily pump out art day aft...</td>\n",
              "      <td>ArtistLounge</td>\n",
              "      <td>\"instagram algorithm\"</td>\n",
              "      <td>NaN</td>\n",
              "      <td>1609859068</td>\n",
              "      <td>2021-01-05 15:04:28</td>\n",
              "      <td>problem</td>\n",
              "      <td>problem</td>\n",
              "      <td>problem</td>\n",
              "      <td>comments</td>\n",
              "      <td>NaN</td>\n",
              "      <td>NaN</td>\n",
              "    </tr>\n",
              "    <tr>\n",
              "      <th>7</th>\n",
              "      <td>687</td>\n",
              "      <td>I have researched the Instagram algorithm earl...</td>\n",
              "      <td>InstagramMarketing</td>\n",
              "      <td>\"instagram algorithm\"</td>\n",
              "      <td>NaN</td>\n",
              "      <td>1610177693</td>\n",
              "      <td>2021-01-09 7:34:53</td>\n",
              "      <td>sensemaking</td>\n",
              "      <td>NaN</td>\n",
              "      <td>NaN</td>\n",
              "      <td>comments</td>\n",
              "      <td>NaN</td>\n",
              "      <td>NaN</td>\n",
              "    </tr>\n",
              "    <tr>\n",
              "      <th>8</th>\n",
              "      <td>685</td>\n",
              "      <td>I’ve tried several and I cant even remember th...</td>\n",
              "      <td>Instagram</td>\n",
              "      <td>\"instagram algorithm\"</td>\n",
              "      <td>NaN</td>\n",
              "      <td>1610199919</td>\n",
              "      <td>2021-01-09 13:45:19</td>\n",
              "      <td>problem</td>\n",
              "      <td>NaN</td>\n",
              "      <td>NaN</td>\n",
              "      <td>comments</td>\n",
              "      <td>NaN</td>\n",
              "      <td>NaN</td>\n",
              "    </tr>\n",
              "    <tr>\n",
              "      <th>9</th>\n",
              "      <td>677</td>\n",
              "      <td>Your work isn't bad at all. You know what you'...</td>\n",
              "      <td>ArtistLounge</td>\n",
              "      <td>\"instagram algorithm\"</td>\n",
              "      <td>NaN</td>\n",
              "      <td>1610408074</td>\n",
              "      <td>2021-01-11 23:34:34</td>\n",
              "      <td>sensemaking</td>\n",
              "      <td>NaN</td>\n",
              "      <td>NaN</td>\n",
              "      <td>comments</td>\n",
              "      <td>NaN</td>\n",
              "      <td>NaN</td>\n",
              "    </tr>\n",
              "  </tbody>\n",
              "</table>\n",
              "</div>\n",
              "      <button class=\"colab-df-convert\" onclick=\"convertToInteractive('df-48d004f7-64d2-45a6-a073-ba8fa8c423ad')\"\n",
              "              title=\"Convert this dataframe to an interactive table.\"\n",
              "              style=\"display:none;\">\n",
              "        \n",
              "  <svg xmlns=\"http://www.w3.org/2000/svg\" height=\"24px\"viewBox=\"0 0 24 24\"\n",
              "       width=\"24px\">\n",
              "    <path d=\"M0 0h24v24H0V0z\" fill=\"none\"/>\n",
              "    <path d=\"M18.56 5.44l.94 2.06.94-2.06 2.06-.94-2.06-.94-.94-2.06-.94 2.06-2.06.94zm-11 1L8.5 8.5l.94-2.06 2.06-.94-2.06-.94L8.5 2.5l-.94 2.06-2.06.94zm10 10l.94 2.06.94-2.06 2.06-.94-2.06-.94-.94-2.06-.94 2.06-2.06.94z\"/><path d=\"M17.41 7.96l-1.37-1.37c-.4-.4-.92-.59-1.43-.59-.52 0-1.04.2-1.43.59L10.3 9.45l-7.72 7.72c-.78.78-.78 2.05 0 2.83L4 21.41c.39.39.9.59 1.41.59.51 0 1.02-.2 1.41-.59l7.78-7.78 2.81-2.81c.8-.78.8-2.07 0-2.86zM5.41 20L4 18.59l7.72-7.72 1.47 1.35L5.41 20z\"/>\n",
              "  </svg>\n",
              "      </button>\n",
              "      \n",
              "  <style>\n",
              "    .colab-df-container {\n",
              "      display:flex;\n",
              "      flex-wrap:wrap;\n",
              "      gap: 12px;\n",
              "    }\n",
              "\n",
              "    .colab-df-convert {\n",
              "      background-color: #E8F0FE;\n",
              "      border: none;\n",
              "      border-radius: 50%;\n",
              "      cursor: pointer;\n",
              "      display: none;\n",
              "      fill: #1967D2;\n",
              "      height: 32px;\n",
              "      padding: 0 0 0 0;\n",
              "      width: 32px;\n",
              "    }\n",
              "\n",
              "    .colab-df-convert:hover {\n",
              "      background-color: #E2EBFA;\n",
              "      box-shadow: 0px 1px 2px rgba(60, 64, 67, 0.3), 0px 1px 3px 1px rgba(60, 64, 67, 0.15);\n",
              "      fill: #174EA6;\n",
              "    }\n",
              "\n",
              "    [theme=dark] .colab-df-convert {\n",
              "      background-color: #3B4455;\n",
              "      fill: #D2E3FC;\n",
              "    }\n",
              "\n",
              "    [theme=dark] .colab-df-convert:hover {\n",
              "      background-color: #434B5C;\n",
              "      box-shadow: 0px 1px 3px 1px rgba(0, 0, 0, 0.15);\n",
              "      filter: drop-shadow(0px 1px 2px rgba(0, 0, 0, 0.3));\n",
              "      fill: #FFFFFF;\n",
              "    }\n",
              "  </style>\n",
              "\n",
              "      <script>\n",
              "        const buttonEl =\n",
              "          document.querySelector('#df-48d004f7-64d2-45a6-a073-ba8fa8c423ad button.colab-df-convert');\n",
              "        buttonEl.style.display =\n",
              "          google.colab.kernel.accessAllowed ? 'block' : 'none';\n",
              "\n",
              "        async function convertToInteractive(key) {\n",
              "          const element = document.querySelector('#df-48d004f7-64d2-45a6-a073-ba8fa8c423ad');\n",
              "          const dataTable =\n",
              "            await google.colab.kernel.invokeFunction('convertToInteractive',\n",
              "                                                     [key], {});\n",
              "          if (!dataTable) return;\n",
              "\n",
              "          const docLinkHtml = 'Like what you see? Visit the ' +\n",
              "            '<a target=\"_blank\" href=https://colab.research.google.com/notebooks/data_table.ipynb>data table notebook</a>'\n",
              "            + ' to learn more about interactive tables.';\n",
              "          element.innerHTML = '';\n",
              "          dataTable['output_type'] = 'display_data';\n",
              "          await google.colab.output.renderOutput(dataTable, element);\n",
              "          const docLink = document.createElement('div');\n",
              "          docLink.innerHTML = docLinkHtml;\n",
              "          element.appendChild(docLink);\n",
              "        }\n",
              "      </script>\n",
              "    </div>\n",
              "  </div>\n",
              "  "
            ]
          },
          "metadata": {},
          "execution_count": 3
        }
      ],
      "source": [
        "data.head(10)"
      ]
    },
    {
      "cell_type": "markdown",
      "id": "0e5c4155",
      "metadata": {
        "id": "0e5c4155"
      },
      "source": [
        "# Data Cleaning"
      ]
    },
    {
      "cell_type": "code",
      "source": [
        "final_data = data[data['Type'] == 'submissions']\n",
        "final_data = final_data[final_data['label1'].notna()]\n",
        "final_data['label'] = final_data['label1']\n",
        "final_data_comments = data[data['Type'] == 'comments']\n",
        "final_data_comments['label'] = final_data_comments['label4'].fillna(final_data_comments['label5'])"
      ],
      "metadata": {
        "id": "FHN4vOx_pD_p",
        "colab": {
          "base_uri": "https://localhost:8080/"
        },
        "outputId": "a66fa718-e346-426b-b56a-da0b7ba241ec"
      },
      "id": "FHN4vOx_pD_p",
      "execution_count": null,
      "outputs": [
        {
          "output_type": "stream",
          "name": "stderr",
          "text": [
            "<ipython-input-6-5750ca7ed4a6>:5: SettingWithCopyWarning: \n",
            "A value is trying to be set on a copy of a slice from a DataFrame.\n",
            "Try using .loc[row_indexer,col_indexer] = value instead\n",
            "\n",
            "See the caveats in the documentation: https://pandas.pydata.org/pandas-docs/stable/user_guide/indexing.html#returning-a-view-versus-a-copy\n",
            "  final_data_comments['label'] = final_data_comments['label4'].fillna(final_data_comments['label5'])\n"
          ]
        }
      ]
    },
    {
      "cell_type": "code",
      "source": [
        "data = pd.DataFrame(pd.concat([final_data,final_data_comments]))"
      ],
      "metadata": {
        "id": "V5yVpCIQrh1_"
      },
      "id": "V5yVpCIQrh1_",
      "execution_count": null,
      "outputs": []
    },
    {
      "cell_type": "code",
      "source": [
        "data = data.reset_index(drop = True)"
      ],
      "metadata": {
        "id": "HQAohVg9p0_N"
      },
      "id": "HQAohVg9p0_N",
      "execution_count": null,
      "outputs": []
    },
    {
      "cell_type": "code",
      "execution_count": null,
      "id": "ca1481ce",
      "metadata": {
        "colab": {
          "base_uri": "https://localhost:8080/",
          "height": 945
        },
        "id": "ca1481ce",
        "outputId": "d8a40927-e78c-45f9-d41d-d3a94de75b69"
      },
      "outputs": [
        {
          "output_type": "execute_result",
          "data": {
            "text/plain": [
              "      N                                               Post     Subreddit  \\\n",
              "1758  1  Everything is the algorithm.  People fool them...     Instagram   \n",
              "1763  0  &gt;Art sites don't attract non-artists\\n\\nYes...  ArtistLounge   \n",
              "1764  0  true of many bloggers these days tbh. no creat...     blogsnark   \n",
              "1765  0  As an admin of a feature account, what grabs y...   socialmedia   \n",
              "1766  0  I wish there was a good answer for this, but u...     Instagram   \n",
              "1767  0  First and foremost, you either gotta stick it ...   photography   \n",
              "1768  0  [Quick Google search doesn't show anything imp...  Entrepreneur   \n",
              "1769  0  There are people you are reporting they got th...     Instagram   \n",
              "1770  0  I think it's funny. IG algo has gone way overb...     Instagram   \n",
              "1771  0  As with any product focused instagram page you...     Instagram   \n",
              "\n",
              "                      Keyword   label5    Date_UTC                 Date  \\\n",
              "1758  \"Instagram's algorithm\"      NaN  1609068293  2020-12-27 11:24:53   \n",
              "1763  \"Instagram's algorithm\"      NaN  1609169732  2020-12-28 15:35:32   \n",
              "1764           \"ig algorithm\"      NaN  1545748894  2018-12-25 14:41:34   \n",
              "1765           \"ig algorithm\"      NaN  1482949852  2016-12-28 18:30:52   \n",
              "1766  \"Instagram's algorithm\"      NaN  1481746378  2016-12-14 20:12:58   \n",
              "1767  \"Instagram's algorithm\"      NaN  1448881254  2015-11-30 11:00:54   \n",
              "1768    \"instagram algorithm\"      NaN  1428933517  2015-04-13 13:58:37   \n",
              "1769                \"IG algo\"      NaN  1490273399  2017-03-23 12:49:59   \n",
              "1770                \"IG algo\"  problem  1639716829   2021-12-17 4:53:49   \n",
              "1771    \"instagram algorithm\"      NaN  1609479251   2021-01-01 5:34:11   \n",
              "\n",
              "           label4                      label2                label3      Type  \\\n",
              "1758      problem                         NaN                   NaN  comments   \n",
              "1763      problem                     problem               problem  comments   \n",
              "1764      problem                     problem               problem  comments   \n",
              "1765      problem  problem, Asking for advice              problem   comments   \n",
              "1766      problem                     problem  problem, sensemaking  comments   \n",
              "1767  sensemaking                 sensemaking          sensemaking   comments   \n",
              "1768      problem                     problem              problem   comments   \n",
              "1769  sensemaking                 sensemaking          sensemaking   comments   \n",
              "1770          NaN                         NaN                   NaN  comments   \n",
              "1771  sensemaking                         NaN                   NaN  comments   \n",
              "\n",
              "     label1 Title        label  \n",
              "1758    NaN   NaN      problem  \n",
              "1763    NaN   NaN      problem  \n",
              "1764    NaN   NaN      problem  \n",
              "1765    NaN   NaN      problem  \n",
              "1766    NaN   NaN      problem  \n",
              "1767    NaN   NaN  sensemaking  \n",
              "1768    NaN   NaN      problem  \n",
              "1769    NaN   NaN  sensemaking  \n",
              "1770    NaN   NaN      problem  \n",
              "1771    NaN   NaN  sensemaking  "
            ],
            "text/html": [
              "\n",
              "  <div id=\"df-3ceb9ccf-bd27-4a9e-822d-9f5e59ee2dbd\">\n",
              "    <div class=\"colab-df-container\">\n",
              "      <div>\n",
              "<style scoped>\n",
              "    .dataframe tbody tr th:only-of-type {\n",
              "        vertical-align: middle;\n",
              "    }\n",
              "\n",
              "    .dataframe tbody tr th {\n",
              "        vertical-align: top;\n",
              "    }\n",
              "\n",
              "    .dataframe thead th {\n",
              "        text-align: right;\n",
              "    }\n",
              "</style>\n",
              "<table border=\"1\" class=\"dataframe\">\n",
              "  <thead>\n",
              "    <tr style=\"text-align: right;\">\n",
              "      <th></th>\n",
              "      <th>N</th>\n",
              "      <th>Post</th>\n",
              "      <th>Subreddit</th>\n",
              "      <th>Keyword</th>\n",
              "      <th>label5</th>\n",
              "      <th>Date_UTC</th>\n",
              "      <th>Date</th>\n",
              "      <th>label4</th>\n",
              "      <th>label2</th>\n",
              "      <th>label3</th>\n",
              "      <th>Type</th>\n",
              "      <th>label1</th>\n",
              "      <th>Title</th>\n",
              "      <th>label</th>\n",
              "    </tr>\n",
              "  </thead>\n",
              "  <tbody>\n",
              "    <tr>\n",
              "      <th>1758</th>\n",
              "      <td>1</td>\n",
              "      <td>Everything is the algorithm.  People fool them...</td>\n",
              "      <td>Instagram</td>\n",
              "      <td>\"Instagram's algorithm\"</td>\n",
              "      <td>NaN</td>\n",
              "      <td>1609068293</td>\n",
              "      <td>2020-12-27 11:24:53</td>\n",
              "      <td>problem</td>\n",
              "      <td>NaN</td>\n",
              "      <td>NaN</td>\n",
              "      <td>comments</td>\n",
              "      <td>NaN</td>\n",
              "      <td>NaN</td>\n",
              "      <td>problem</td>\n",
              "    </tr>\n",
              "    <tr>\n",
              "      <th>1763</th>\n",
              "      <td>0</td>\n",
              "      <td>&amp;gt;Art sites don't attract non-artists\\n\\nYes...</td>\n",
              "      <td>ArtistLounge</td>\n",
              "      <td>\"Instagram's algorithm\"</td>\n",
              "      <td>NaN</td>\n",
              "      <td>1609169732</td>\n",
              "      <td>2020-12-28 15:35:32</td>\n",
              "      <td>problem</td>\n",
              "      <td>problem</td>\n",
              "      <td>problem</td>\n",
              "      <td>comments</td>\n",
              "      <td>NaN</td>\n",
              "      <td>NaN</td>\n",
              "      <td>problem</td>\n",
              "    </tr>\n",
              "    <tr>\n",
              "      <th>1764</th>\n",
              "      <td>0</td>\n",
              "      <td>true of many bloggers these days tbh. no creat...</td>\n",
              "      <td>blogsnark</td>\n",
              "      <td>\"ig algorithm\"</td>\n",
              "      <td>NaN</td>\n",
              "      <td>1545748894</td>\n",
              "      <td>2018-12-25 14:41:34</td>\n",
              "      <td>problem</td>\n",
              "      <td>problem</td>\n",
              "      <td>problem</td>\n",
              "      <td>comments</td>\n",
              "      <td>NaN</td>\n",
              "      <td>NaN</td>\n",
              "      <td>problem</td>\n",
              "    </tr>\n",
              "    <tr>\n",
              "      <th>1765</th>\n",
              "      <td>0</td>\n",
              "      <td>As an admin of a feature account, what grabs y...</td>\n",
              "      <td>socialmedia</td>\n",
              "      <td>\"ig algorithm\"</td>\n",
              "      <td>NaN</td>\n",
              "      <td>1482949852</td>\n",
              "      <td>2016-12-28 18:30:52</td>\n",
              "      <td>problem</td>\n",
              "      <td>problem, Asking for advice</td>\n",
              "      <td>problem</td>\n",
              "      <td>comments</td>\n",
              "      <td>NaN</td>\n",
              "      <td>NaN</td>\n",
              "      <td>problem</td>\n",
              "    </tr>\n",
              "    <tr>\n",
              "      <th>1766</th>\n",
              "      <td>0</td>\n",
              "      <td>I wish there was a good answer for this, but u...</td>\n",
              "      <td>Instagram</td>\n",
              "      <td>\"Instagram's algorithm\"</td>\n",
              "      <td>NaN</td>\n",
              "      <td>1481746378</td>\n",
              "      <td>2016-12-14 20:12:58</td>\n",
              "      <td>problem</td>\n",
              "      <td>problem</td>\n",
              "      <td>problem, sensemaking</td>\n",
              "      <td>comments</td>\n",
              "      <td>NaN</td>\n",
              "      <td>NaN</td>\n",
              "      <td>problem</td>\n",
              "    </tr>\n",
              "    <tr>\n",
              "      <th>1767</th>\n",
              "      <td>0</td>\n",
              "      <td>First and foremost, you either gotta stick it ...</td>\n",
              "      <td>photography</td>\n",
              "      <td>\"Instagram's algorithm\"</td>\n",
              "      <td>NaN</td>\n",
              "      <td>1448881254</td>\n",
              "      <td>2015-11-30 11:00:54</td>\n",
              "      <td>sensemaking</td>\n",
              "      <td>sensemaking</td>\n",
              "      <td>sensemaking</td>\n",
              "      <td>comments</td>\n",
              "      <td>NaN</td>\n",
              "      <td>NaN</td>\n",
              "      <td>sensemaking</td>\n",
              "    </tr>\n",
              "    <tr>\n",
              "      <th>1768</th>\n",
              "      <td>0</td>\n",
              "      <td>[Quick Google search doesn't show anything imp...</td>\n",
              "      <td>Entrepreneur</td>\n",
              "      <td>\"instagram algorithm\"</td>\n",
              "      <td>NaN</td>\n",
              "      <td>1428933517</td>\n",
              "      <td>2015-04-13 13:58:37</td>\n",
              "      <td>problem</td>\n",
              "      <td>problem</td>\n",
              "      <td>problem</td>\n",
              "      <td>comments</td>\n",
              "      <td>NaN</td>\n",
              "      <td>NaN</td>\n",
              "      <td>problem</td>\n",
              "    </tr>\n",
              "    <tr>\n",
              "      <th>1769</th>\n",
              "      <td>0</td>\n",
              "      <td>There are people you are reporting they got th...</td>\n",
              "      <td>Instagram</td>\n",
              "      <td>\"IG algo\"</td>\n",
              "      <td>NaN</td>\n",
              "      <td>1490273399</td>\n",
              "      <td>2017-03-23 12:49:59</td>\n",
              "      <td>sensemaking</td>\n",
              "      <td>sensemaking</td>\n",
              "      <td>sensemaking</td>\n",
              "      <td>comments</td>\n",
              "      <td>NaN</td>\n",
              "      <td>NaN</td>\n",
              "      <td>sensemaking</td>\n",
              "    </tr>\n",
              "    <tr>\n",
              "      <th>1770</th>\n",
              "      <td>0</td>\n",
              "      <td>I think it's funny. IG algo has gone way overb...</td>\n",
              "      <td>Instagram</td>\n",
              "      <td>\"IG algo\"</td>\n",
              "      <td>problem</td>\n",
              "      <td>1639716829</td>\n",
              "      <td>2021-12-17 4:53:49</td>\n",
              "      <td>NaN</td>\n",
              "      <td>NaN</td>\n",
              "      <td>NaN</td>\n",
              "      <td>comments</td>\n",
              "      <td>NaN</td>\n",
              "      <td>NaN</td>\n",
              "      <td>problem</td>\n",
              "    </tr>\n",
              "    <tr>\n",
              "      <th>1771</th>\n",
              "      <td>0</td>\n",
              "      <td>As with any product focused instagram page you...</td>\n",
              "      <td>Instagram</td>\n",
              "      <td>\"instagram algorithm\"</td>\n",
              "      <td>NaN</td>\n",
              "      <td>1609479251</td>\n",
              "      <td>2021-01-01 5:34:11</td>\n",
              "      <td>sensemaking</td>\n",
              "      <td>NaN</td>\n",
              "      <td>NaN</td>\n",
              "      <td>comments</td>\n",
              "      <td>NaN</td>\n",
              "      <td>NaN</td>\n",
              "      <td>sensemaking</td>\n",
              "    </tr>\n",
              "  </tbody>\n",
              "</table>\n",
              "</div>\n",
              "      <button class=\"colab-df-convert\" onclick=\"convertToInteractive('df-3ceb9ccf-bd27-4a9e-822d-9f5e59ee2dbd')\"\n",
              "              title=\"Convert this dataframe to an interactive table.\"\n",
              "              style=\"display:none;\">\n",
              "        \n",
              "  <svg xmlns=\"http://www.w3.org/2000/svg\" height=\"24px\"viewBox=\"0 0 24 24\"\n",
              "       width=\"24px\">\n",
              "    <path d=\"M0 0h24v24H0V0z\" fill=\"none\"/>\n",
              "    <path d=\"M18.56 5.44l.94 2.06.94-2.06 2.06-.94-2.06-.94-.94-2.06-.94 2.06-2.06.94zm-11 1L8.5 8.5l.94-2.06 2.06-.94-2.06-.94L8.5 2.5l-.94 2.06-2.06.94zm10 10l.94 2.06.94-2.06 2.06-.94-2.06-.94-.94-2.06-.94 2.06-2.06.94z\"/><path d=\"M17.41 7.96l-1.37-1.37c-.4-.4-.92-.59-1.43-.59-.52 0-1.04.2-1.43.59L10.3 9.45l-7.72 7.72c-.78.78-.78 2.05 0 2.83L4 21.41c.39.39.9.59 1.41.59.51 0 1.02-.2 1.41-.59l7.78-7.78 2.81-2.81c.8-.78.8-2.07 0-2.86zM5.41 20L4 18.59l7.72-7.72 1.47 1.35L5.41 20z\"/>\n",
              "  </svg>\n",
              "      </button>\n",
              "      \n",
              "  <style>\n",
              "    .colab-df-container {\n",
              "      display:flex;\n",
              "      flex-wrap:wrap;\n",
              "      gap: 12px;\n",
              "    }\n",
              "\n",
              "    .colab-df-convert {\n",
              "      background-color: #E8F0FE;\n",
              "      border: none;\n",
              "      border-radius: 50%;\n",
              "      cursor: pointer;\n",
              "      display: none;\n",
              "      fill: #1967D2;\n",
              "      height: 32px;\n",
              "      padding: 0 0 0 0;\n",
              "      width: 32px;\n",
              "    }\n",
              "\n",
              "    .colab-df-convert:hover {\n",
              "      background-color: #E2EBFA;\n",
              "      box-shadow: 0px 1px 2px rgba(60, 64, 67, 0.3), 0px 1px 3px 1px rgba(60, 64, 67, 0.15);\n",
              "      fill: #174EA6;\n",
              "    }\n",
              "\n",
              "    [theme=dark] .colab-df-convert {\n",
              "      background-color: #3B4455;\n",
              "      fill: #D2E3FC;\n",
              "    }\n",
              "\n",
              "    [theme=dark] .colab-df-convert:hover {\n",
              "      background-color: #434B5C;\n",
              "      box-shadow: 0px 1px 3px 1px rgba(0, 0, 0, 0.15);\n",
              "      filter: drop-shadow(0px 1px 2px rgba(0, 0, 0, 0.3));\n",
              "      fill: #FFFFFF;\n",
              "    }\n",
              "  </style>\n",
              "\n",
              "      <script>\n",
              "        const buttonEl =\n",
              "          document.querySelector('#df-3ceb9ccf-bd27-4a9e-822d-9f5e59ee2dbd button.colab-df-convert');\n",
              "        buttonEl.style.display =\n",
              "          google.colab.kernel.accessAllowed ? 'block' : 'none';\n",
              "\n",
              "        async function convertToInteractive(key) {\n",
              "          const element = document.querySelector('#df-3ceb9ccf-bd27-4a9e-822d-9f5e59ee2dbd');\n",
              "          const dataTable =\n",
              "            await google.colab.kernel.invokeFunction('convertToInteractive',\n",
              "                                                     [key], {});\n",
              "          if (!dataTable) return;\n",
              "\n",
              "          const docLinkHtml = 'Like what you see? Visit the ' +\n",
              "            '<a target=\"_blank\" href=https://colab.research.google.com/notebooks/data_table.ipynb>data table notebook</a>'\n",
              "            + ' to learn more about interactive tables.';\n",
              "          element.innerHTML = '';\n",
              "          dataTable['output_type'] = 'display_data';\n",
              "          await google.colab.output.renderOutput(dataTable, element);\n",
              "          const docLink = document.createElement('div');\n",
              "          docLink.innerHTML = docLinkHtml;\n",
              "          element.appendChild(docLink);\n",
              "        }\n",
              "      </script>\n",
              "    </div>\n",
              "  </div>\n",
              "  "
            ]
          },
          "metadata": {},
          "execution_count": 9
        }
      ],
      "source": [
        "# we need to drop NA\n",
        "# make categorical\n",
        "\n",
        "data = data[data['label'].notna()]\n",
        "data.tail(10)\n",
        "# extract year from date"
      ]
    },
    {
      "cell_type": "code",
      "source": [
        "#Adding more features\n",
        "import datetime\n",
        "\n",
        "data['post_len'] = data['Post'].astype(str).apply(len)\n",
        "data['year'] = data['Date'].str[:4]\n",
        "data = data.sort_values(by = 'year')"
      ],
      "metadata": {
        "id": "8SRBKsIYOfkw"
      },
      "id": "8SRBKsIYOfkw",
      "execution_count": null,
      "outputs": []
    },
    {
      "cell_type": "markdown",
      "source": [
        "We extract the **year** from the date time and add **post length** as features, since from the plot below we can see that the post which is labled as sensemaking tends to has a longer length."
      ],
      "metadata": {
        "id": "m2kgv84SUeIs"
      },
      "id": "m2kgv84SUeIs"
    },
    {
      "cell_type": "markdown",
      "source": [
        "# Distribution of words"
      ],
      "metadata": {
        "id": "saHzdLo5ITho"
      },
      "id": "saHzdLo5ITho"
    },
    {
      "cell_type": "markdown",
      "source": [
        "Now, we want to investigate whether the type of posts: submissions and comments has an effect on the model."
      ],
      "metadata": {
        "id": "MVB6-HHUVyL0"
      },
      "id": "MVB6-HHUVyL0"
    },
    {
      "cell_type": "code",
      "source": [
        "#Length of the posts vs comments\n",
        "plt.figure(figsize=(10, 6))\n",
        "sns.pointplot(x = \"Type\", y = \"post_len\", data = data)\n",
        "plt.xlabel(\"Type\")\n",
        "plt.ylabel(\"Post Length\")\n",
        "plt.title(\"Post Length\")\n",
        "plt.show()"
      ],
      "metadata": {
        "colab": {
          "base_uri": "https://localhost:8080/",
          "height": 404
        },
        "id": "aDoCFQvpNN7s",
        "outputId": "3f7319ef-3cab-42f2-aac0-ea334feac6b4"
      },
      "id": "aDoCFQvpNN7s",
      "execution_count": null,
      "outputs": [
        {
          "output_type": "display_data",
          "data": {
            "text/plain": [
              "<Figure size 720x432 with 1 Axes>"
            ],
            "image/png": "[encoded data removed]"
          },
          "metadata": {
            "needs_background": "light"
          }
        }
      ]
    },
    {
      "cell_type": "markdown",
      "source": [
        "The post length of submissions tend to be longer than that of comments."
      ],
      "metadata": {
        "id": "gxxufJpmVS7r"
      },
      "id": "gxxufJpmVS7r"
    },
    {
      "cell_type": "code",
      "source": [
        "#Count of the Posts for Each type\n",
        "plt.figure(figsize=(8, 6))\n",
        "sns.countplot(x='Type', data=data)\n",
        "plt.xlabel(\"Type\")\n",
        "plt.title(\"Number of posts of each type\")\n",
        "plt.show()"
      ],
      "metadata": {
        "colab": {
          "base_uri": "https://localhost:8080/",
          "height": 404
        },
        "id": "RyqlzmaaiQdb",
        "outputId": "0fb58271-a75c-4c5e-886b-cddc3c6709c3"
      },
      "id": "RyqlzmaaiQdb",
      "execution_count": null,
      "outputs": [
        {
          "output_type": "display_data",
          "data": {
            "text/plain": [
              "<Figure size 576x432 with 1 Axes>"
            ],
            "image/png": "[encoded data removed]"
          },
          "metadata": {
            "needs_background": "light"
          }
        }
      ]
    },
    {
      "cell_type": "markdown",
      "source": [
        "The number of comments are far more than the number of submissions."
      ],
      "metadata": {
        "id": "g2JaPjjrWBgd"
      },
      "id": "g2JaPjjrWBgd"
    },
    {
      "cell_type": "code",
      "source": [
        "import matplotlib.pyplot as plt\n",
        "\n",
        "fig, ax = plt.subplots(figsize=(12,6))\n",
        "sns.countplot(data=data, x='year', hue='Type', ax=ax)\n",
        "plt.legend(loc='center left')"
      ],
      "metadata": {
        "colab": {
          "base_uri": "https://localhost:8080/",
          "height": 405
        },
        "id": "TwIs38SXO2CM",
        "outputId": "297299d6-e217-4c70-fdb4-d85339b75baa"
      },
      "id": "TwIs38SXO2CM",
      "execution_count": null,
      "outputs": [
        {
          "output_type": "execute_result",
          "data": {
            "text/plain": [
              "<matplotlib.legend.Legend at 0x7f38927ff640>"
            ]
          },
          "metadata": {},
          "execution_count": 13
        },
        {
          "output_type": "display_data",
          "data": {
            "text/plain": [
              "<Figure size 864x432 with 1 Axes>"
            ],
            "image/png": "[encoded data removed]"
          },
          "metadata": {
            "needs_background": "light"
          }
        }
      ]
    },
    {
      "cell_type": "markdown",
      "source": [
        "Much more comments under the submissions with key words instagram/algorithm happened in the 2021"
      ],
      "metadata": {
        "id": "Ct1NiAANWPxj"
      },
      "id": "Ct1NiAANWPxj"
    },
    {
      "cell_type": "code",
      "source": [
        "# assign two types of data into two dataframe\n",
        "df_comments = data[data['Type'] == 'comments']\n",
        "df_submissions = data[data['Type'] == 'submissions']"
      ],
      "metadata": {
        "id": "OmDiZ-5Pfo6C"
      },
      "id": "OmDiZ-5Pfo6C",
      "execution_count": null,
      "outputs": []
    },
    {
      "cell_type": "code",
      "source": [
        "# group the DataFrames by year and calculate the mean value for each year\n",
        "grouped_comments = df_comments.groupby('year').mean()\n",
        "grouped_submissions = df_submissions.groupby('year').mean()"
      ],
      "metadata": {
        "id": "GeBy9NHmhcUv"
      },
      "id": "GeBy9NHmhcUv",
      "execution_count": null,
      "outputs": []
    },
    {
      "cell_type": "code",
      "source": [
        "# plot the data using matplotlib\n",
        "plt.plot(grouped_comments.index, grouped_comments['post_len'], label='comments')\n",
        "plt.plot(grouped_submissions.iloc[1:, :].index, grouped_submissions.iloc[1:, :]['post_len'], label='submissions')\n",
        "# add a title and labels to the plot\n",
        "plt.title('Trend of mean value of post length based on type of post by Year')\n",
        "plt.xlabel('Year')\n",
        "plt.ylabel('post_length')\n",
        "\n",
        "# add a legend to the plot\n",
        "plt.legend()\n",
        "\n",
        "# display the plot\n",
        "plt.show()"
      ],
      "metadata": {
        "colab": {
          "base_uri": "https://localhost:8080/",
          "height": 295
        },
        "id": "X1wdQLBvhiqH",
        "outputId": "10b8797f-d85b-4238-f731-34ba3a897fe6"
      },
      "id": "X1wdQLBvhiqH",
      "execution_count": null,
      "outputs": [
        {
          "output_type": "display_data",
          "data": {
            "text/plain": [
              "<Figure size 432x288 with 1 Axes>"
            ],
            "image/png": "[encoded data removed]"
          },
          "metadata": {
            "needs_background": "light"
          }
        }
      ]
    },
    {
      "cell_type": "markdown",
      "source": [
        "In the mid of 2015, the mean value of post_length for submissions exceeded the mean value of post_length for comments and reached the peak in 2019."
      ],
      "metadata": {
        "id": "-fkuw8NkXX62"
      },
      "id": "-fkuw8NkXX62"
    },
    {
      "cell_type": "markdown",
      "source": [
        "# **AWS Comprehend**"
      ],
      "metadata": {
        "id": "EuccPPP8BBm8"
      },
      "id": "EuccPPP8BBm8"
    },
    {
      "cell_type": "code",
      "source": [
        "# !pip install boto3\n",
        "import json\n",
        "import boto3\n",
        "\n",
        "#Using boto3 to call the Comprehend API\n",
        "client = boto3.client('comprehend', region_name='us-west-2',\n",
        "                      aws_access_key_id='', #update key\n",
        "                      aws_secret_access_key='' #update key\n",
        "                      #aws_session_token=''\n",
        "                      )"
      ],
      "metadata": {
        "id": "E4uLec_KHBpI"
      },
      "id": "E4uLec_KHBpI",
      "execution_count": null,
      "outputs": []
    },
    {
      "cell_type": "code",
      "source": [
        "from pandas._libs.lib import fast_unique_multiple_list_gen\n",
        "#Lambda function to work with Comprehend\n",
        "def lambda_handler(text):\n",
        "\n",
        "  #Sentiment Analysis\n",
        "  try:\n",
        "    sentiment = client.detect_sentiment(Text = text, LanguageCode = 'en') #API call for sentiment analysis\n",
        "  except:\n",
        "    return \"Cannot Calculate\"\n",
        "  sentRes = sentiment['Sentiment'] #Positive, Neutral, or Negative\n",
        "\n",
        "  return sentRes"
      ],
      "metadata": {
        "id": "k4bIuxQ7BAUl"
      },
      "id": "k4bIuxQ7BAUl",
      "execution_count": null,
      "outputs": []
    },
    {
      "cell_type": "code",
      "source": [
        "data[\"sentiment\"] = data.iloc[:,1].apply(lambda_handler)"
      ],
      "metadata": {
        "id": "dsYtQgVYkysW"
      },
      "id": "dsYtQgVYkysW",
      "execution_count": null,
      "outputs": []
    },
    {
      "cell_type": "markdown",
      "id": "5ee04b6f",
      "metadata": {
        "id": "5ee04b6f"
      },
      "source": [
        "# Cleaning Data\n",
        "\n",
        "This data is a bit of a mess. We are going to take the \"clear-cut\" labels, aka strictly *problem* or strictly *sensemaking*. Including *ad* seems to reduce accuracy, likely due to the low amount of labeled examples while increasing number of classes. Keeping this binary seems appropriate for the level of data we have."
      ]
    },
    {
      "cell_type": "code",
      "execution_count": null,
      "id": "216d12e2",
      "metadata": {
        "colab": {
          "base_uri": "https://localhost:8080/",
          "height": 223
        },
        "id": "216d12e2",
        "outputId": "0feaaf68-95e5-4e4b-aece-3578aaf14390"
      },
      "outputs": [
        {
          "output_type": "stream",
          "name": "stdout",
          "text": [
            "905\n"
          ]
        },
        {
          "output_type": "execute_result",
          "data": {
            "text/plain": [
              "                                                   Post     Subreddit  \\\n",
              "1754  the instagram algorithm has a time-from-image-...     AskReddit   \n",
              "313   Since Instagram took the social media world by...   socialmedia   \n",
              "312   Did instagram change their algorithm yesterday...     Instagram   \n",
              "1768  [Quick Google search doesn't show anything imp...  Entrepreneur   \n",
              "1767  First and foremost, you either gotta stick it ...   photography   \n",
              "\n",
              "                     Date         Type sentiment        label  \n",
              "1754  2012-04-08 19:59:20     comments   NEUTRAL  sensemaking  \n",
              "313   2014-09-12 20:58:19  submissions   NEUTRAL  sensemaking  \n",
              "312   2015-08-28 11:57:23  submissions   NEUTRAL      problem  \n",
              "1768  2015-04-13 13:58:37     comments   NEUTRAL      problem  \n",
              "1767  2015-11-30 11:00:54     comments  NEGATIVE  sensemaking  "
            ],
            "text/html": [
              "\n",
              "  <div id=\"df-189d7e32-b9fd-420d-b1e0-f521caeef5da\">\n",
              "    <div class=\"colab-df-container\">\n",
              "      <div>\n",
              "<style scoped>\n",
              "    .dataframe tbody tr th:only-of-type {\n",
              "        vertical-align: middle;\n",
              "    }\n",
              "\n",
              "    .dataframe tbody tr th {\n",
              "        vertical-align: top;\n",
              "    }\n",
              "\n",
              "    .dataframe thead th {\n",
              "        text-align: right;\n",
              "    }\n",
              "</style>\n",
              "<table border=\"1\" class=\"dataframe\">\n",
              "  <thead>\n",
              "    <tr style=\"text-align: right;\">\n",
              "      <th></th>\n",
              "      <th>Post</th>\n",
              "      <th>Subreddit</th>\n",
              "      <th>Date</th>\n",
              "      <th>Type</th>\n",
              "      <th>sentiment</th>\n",
              "      <th>label</th>\n",
              "    </tr>\n",
              "  </thead>\n",
              "  <tbody>\n",
              "    <tr>\n",
              "      <th>1754</th>\n",
              "      <td>the instagram algorithm has a time-from-image-...</td>\n",
              "      <td>AskReddit</td>\n",
              "      <td>2012-04-08 19:59:20</td>\n",
              "      <td>comments</td>\n",
              "      <td>NEUTRAL</td>\n",
              "      <td>sensemaking</td>\n",
              "    </tr>\n",
              "    <tr>\n",
              "      <th>313</th>\n",
              "      <td>Since Instagram took the social media world by...</td>\n",
              "      <td>socialmedia</td>\n",
              "      <td>2014-09-12 20:58:19</td>\n",
              "      <td>submissions</td>\n",
              "      <td>NEUTRAL</td>\n",
              "      <td>sensemaking</td>\n",
              "    </tr>\n",
              "    <tr>\n",
              "      <th>312</th>\n",
              "      <td>Did instagram change their algorithm yesterday...</td>\n",
              "      <td>Instagram</td>\n",
              "      <td>2015-08-28 11:57:23</td>\n",
              "      <td>submissions</td>\n",
              "      <td>NEUTRAL</td>\n",
              "      <td>problem</td>\n",
              "    </tr>\n",
              "    <tr>\n",
              "      <th>1768</th>\n",
              "      <td>[Quick Google search doesn't show anything imp...</td>\n",
              "      <td>Entrepreneur</td>\n",
              "      <td>2015-04-13 13:58:37</td>\n",
              "      <td>comments</td>\n",
              "      <td>NEUTRAL</td>\n",
              "      <td>problem</td>\n",
              "    </tr>\n",
              "    <tr>\n",
              "      <th>1767</th>\n",
              "      <td>First and foremost, you either gotta stick it ...</td>\n",
              "      <td>photography</td>\n",
              "      <td>2015-11-30 11:00:54</td>\n",
              "      <td>comments</td>\n",
              "      <td>NEGATIVE</td>\n",
              "      <td>sensemaking</td>\n",
              "    </tr>\n",
              "  </tbody>\n",
              "</table>\n",
              "</div>\n",
              "      <button class=\"colab-df-convert\" onclick=\"convertToInteractive('df-189d7e32-b9fd-420d-b1e0-f521caeef5da')\"\n",
              "              title=\"Convert this dataframe to an interactive table.\"\n",
              "              style=\"display:none;\">\n",
              "        \n",
              "  <svg xmlns=\"http://www.w3.org/2000/svg\" height=\"24px\"viewBox=\"0 0 24 24\"\n",
              "       width=\"24px\">\n",
              "    <path d=\"M0 0h24v24H0V0z\" fill=\"none\"/>\n",
              "    <path d=\"M18.56 5.44l.94 2.06.94-2.06 2.06-.94-2.06-.94-.94-2.06-.94 2.06-2.06.94zm-11 1L8.5 8.5l.94-2.06 2.06-.94-2.06-.94L8.5 2.5l-.94 2.06-2.06.94zm10 10l.94 2.06.94-2.06 2.06-.94-2.06-.94-.94-2.06-.94 2.06-2.06.94z\"/><path d=\"M17.41 7.96l-1.37-1.37c-.4-.4-.92-.59-1.43-.59-.52 0-1.04.2-1.43.59L10.3 9.45l-7.72 7.72c-.78.78-.78 2.05 0 2.83L4 21.41c.39.39.9.59 1.41.59.51 0 1.02-.2 1.41-.59l7.78-7.78 2.81-2.81c.8-.78.8-2.07 0-2.86zM5.41 20L4 18.59l7.72-7.72 1.47 1.35L5.41 20z\"/>\n",
              "  </svg>\n",
              "      </button>\n",
              "      \n",
              "  <style>\n",
              "    .colab-df-container {\n",
              "      display:flex;\n",
              "      flex-wrap:wrap;\n",
              "      gap: 12px;\n",
              "    }\n",
              "\n",
              "    .colab-df-convert {\n",
              "      background-color: #E8F0FE;\n",
              "      border: none;\n",
              "      border-radius: 50%;\n",
              "      cursor: pointer;\n",
              "      display: none;\n",
              "      fill: #1967D2;\n",
              "      height: 32px;\n",
              "      padding: 0 0 0 0;\n",
              "      width: 32px;\n",
              "    }\n",
              "\n",
              "    .colab-df-convert:hover {\n",
              "      background-color: #E2EBFA;\n",
              "      box-shadow: 0px 1px 2px rgba(60, 64, 67, 0.3), 0px 1px 3px 1px rgba(60, 64, 67, 0.15);\n",
              "      fill: #174EA6;\n",
              "    }\n",
              "\n",
              "    [theme=dark] .colab-df-convert {\n",
              "      background-color: #3B4455;\n",
              "      fill: #D2E3FC;\n",
              "    }\n",
              "\n",
              "    [theme=dark] .colab-df-convert:hover {\n",
              "      background-color: #434B5C;\n",
              "      box-shadow: 0px 1px 3px 1px rgba(0, 0, 0, 0.15);\n",
              "      filter: drop-shadow(0px 1px 2px rgba(0, 0, 0, 0.3));\n",
              "      fill: #FFFFFF;\n",
              "    }\n",
              "  </style>\n",
              "\n",
              "      <script>\n",
              "        const buttonEl =\n",
              "          document.querySelector('#df-189d7e32-b9fd-420d-b1e0-f521caeef5da button.colab-df-convert');\n",
              "        buttonEl.style.display =\n",
              "          google.colab.kernel.accessAllowed ? 'block' : 'none';\n",
              "\n",
              "        async function convertToInteractive(key) {\n",
              "          const element = document.querySelector('#df-189d7e32-b9fd-420d-b1e0-f521caeef5da');\n",
              "          const dataTable =\n",
              "            await google.colab.kernel.invokeFunction('convertToInteractive',\n",
              "                                                     [key], {});\n",
              "          if (!dataTable) return;\n",
              "\n",
              "          const docLinkHtml = 'Like what you see? Visit the ' +\n",
              "            '<a target=\"_blank\" href=https://colab.research.google.com/notebooks/data_table.ipynb>data table notebook</a>'\n",
              "            + ' to learn more about interactive tables.';\n",
              "          element.innerHTML = '';\n",
              "          dataTable['output_type'] = 'display_data';\n",
              "          await google.colab.output.renderOutput(dataTable, element);\n",
              "          const docLink = document.createElement('div');\n",
              "          docLink.innerHTML = docLinkHtml;\n",
              "          element.appendChild(docLink);\n",
              "        }\n",
              "      </script>\n",
              "    </div>\n",
              "  </div>\n",
              "  "
            ]
          },
          "metadata": {},
          "execution_count": 38
        }
      ],
      "source": [
        "options = ['problem', 'sensemaking'] \n",
        "    \n",
        "# selecting rows based on condition \n",
        "d = data[data['label'].isin(options)] \n",
        "d = d[[\"Post\",\"Subreddit\",\"label\",\"Date\", \"sentiment\",\"Type\"]]\n",
        "d = d[['Post', 'Subreddit', 'Date', 'Type', \"sentiment\", 'label']]\n",
        "#d.rename(columns = {\"label\": \"label\"}, \n",
        "#          inplace = True)\n",
        "print(len(d))\n",
        "d.head()"
      ]
    },
    {
      "cell_type": "code",
      "source": [
        "d = d[d['sentiment'] != 'Cannot Calculate']"
      ],
      "metadata": {
        "id": "rdz5YAeJsSQ7"
      },
      "id": "rdz5YAeJsSQ7",
      "execution_count": null,
      "outputs": []
    },
    {
      "cell_type": "code",
      "source": [
        "#dummy variable encoding\n",
        "d = d.join(pd.get_dummies(d['sentiment']))"
      ],
      "metadata": {
        "id": "xY82PTx3w3ZW"
      },
      "id": "xY82PTx3w3ZW",
      "execution_count": null,
      "outputs": []
    },
    {
      "cell_type": "markdown",
      "source": [
        "#Distribution of Labels"
      ],
      "metadata": {
        "id": "DpLkhErD-RQc"
      },
      "id": "DpLkhErD-RQc"
    },
    {
      "cell_type": "code",
      "source": [
        "#adding some more features to the dataset\n",
        "d['post_len'] = d['Post'].astype(str).apply(len)\n",
        "d['word_count'] = d['Post'].apply(lambda x: len(str(x).split()))"
      ],
      "metadata": {
        "id": "N8ojPCMcBxL6"
      },
      "id": "N8ojPCMcBxL6",
      "execution_count": null,
      "outputs": []
    },
    {
      "cell_type": "code",
      "source": [
        "#Count of the Posts for Each Label\n",
        "plt.figure(figsize=(8, 6))\n",
        "sns.countplot(x='label', data=d)\n",
        "plt.xlabel(\"Label\")\n",
        "plt.title(\"Number of data of each label\")\n",
        "plt.show()"
      ],
      "metadata": {
        "colab": {
          "base_uri": "https://localhost:8080/",
          "height": 404
        },
        "id": "efu4Z6Ol_ISJ",
        "outputId": "7f36aeba-6fc5-46a8-c302-e81c7df61768"
      },
      "id": "efu4Z6Ol_ISJ",
      "execution_count": null,
      "outputs": [
        {
          "output_type": "display_data",
          "data": {
            "text/plain": [
              "<Figure size 576x432 with 1 Axes>"
            ],
            "image/png": "[encoded data removed]"
          },
          "metadata": {
            "needs_background": "light"
          }
        }
      ]
    },
    {
      "cell_type": "markdown",
      "source": [
        "The number of labels in two categories is balanced"
      ],
      "metadata": {
        "id": "Vgr_EW9BbBGw"
      },
      "id": "Vgr_EW9BbBGw"
    },
    {
      "cell_type": "code",
      "source": [
        "#Length of the Post vs the Label\n",
        "plt.figure(figsize=(10, 6))\n",
        "sns.pointplot(x = \"label\", y = \"post_len\", data = d)\n",
        "plt.xlabel(\"Label\")\n",
        "plt.ylabel(\"Post Length\")\n",
        "plt.title(\"Label vs Post Length\")\n",
        "plt.show()"
      ],
      "metadata": {
        "colab": {
          "base_uri": "https://localhost:8080/",
          "height": 404
        },
        "id": "UMpN8zCABUoY",
        "outputId": "e1bf96b8-1817-49c0-f47b-f39e88fecf1c"
      },
      "id": "UMpN8zCABUoY",
      "execution_count": null,
      "outputs": [
        {
          "output_type": "display_data",
          "data": {
            "text/plain": [
              "<Figure size 720x432 with 1 Axes>"
            ],
            "image/png": "[encoded data removed]"
          },
          "metadata": {
            "needs_background": "light"
          }
        }
      ]
    },
    {
      "cell_type": "markdown",
      "source": [
        "The post_length with sensemaking label tend to longer than the post_length in problem label, which can be added as a feature."
      ],
      "metadata": {
        "id": "0u2ol4GOaGxV"
      },
      "id": "0u2ol4GOaGxV"
    },
    {
      "cell_type": "markdown",
      "source": [
        "# Descriptive stats"
      ],
      "metadata": {
        "id": "LNZW5l1lnmSO"
      },
      "id": "LNZW5l1lnmSO"
    },
    {
      "cell_type": "code",
      "source": [
        "# create a contingency table of the two variables\n",
        "contingency_table = pd.crosstab(d['Type'], d['label'])\n",
        "\n",
        "# calculate summary statistics for each row and column of the contingency table\n",
        "row_totals = contingency_table.sum(axis=1)\n",
        "column_totals = contingency_table.sum(axis=0)\n",
        "grand_total = contingency_table.sum().sum()\n",
        "\n",
        "# calculate the proportion of each cell in the contingency table\n",
        "proportions = contingency_table / grand_total\n",
        "\n",
        "# print the contingency table, row and column totals, and proportions\n",
        "print(\"Contingency Table:\")\n",
        "print(contingency_table)\n",
        "\n",
        "print(\"\\nRow Totals:\")\n",
        "print(row_totals)\n",
        "\n",
        "print(\"\\nColumn Totals:\")\n",
        "print(column_totals)\n",
        "\n",
        "print(\"\\nProportions:\")\n",
        "print(proportions)"
      ],
      "metadata": {
        "colab": {
          "base_uri": "https://localhost:8080/"
        },
        "id": "ZnZQmxE7nWVy",
        "outputId": "d48638ae-c6d4-4898-bc49-7dcb71159089"
      },
      "id": "ZnZQmxE7nWVy",
      "execution_count": null,
      "outputs": [
        {
          "output_type": "stream",
          "name": "stdout",
          "text": [
            "Contingency Table:\n",
            "label        problem  sensemaking\n",
            "Type                             \n",
            "comments         252          397\n",
            "submissions      173           65\n",
            "\n",
            "Row Totals:\n",
            "Type\n",
            "comments       649\n",
            "submissions    238\n",
            "dtype: int64\n",
            "\n",
            "Column Totals:\n",
            "label\n",
            "problem        425\n",
            "sensemaking    462\n",
            "dtype: int64\n",
            "\n",
            "Proportions:\n",
            "label         problem  sensemaking\n",
            "Type                              \n",
            "comments     0.284104     0.447576\n",
            "submissions  0.195039     0.073281\n"
          ]
        }
      ]
    },
    {
      "cell_type": "markdown",
      "source": [
        "The posts that are submissions have larger proportions of labels as problem compared to the sensemaking label. But the posts are problem have larger proportions of labels as sensemaking than the problem label."
      ],
      "metadata": {
        "id": "ef29uFRuYyPy"
      },
      "id": "ef29uFRuYyPy"
    },
    {
      "cell_type": "markdown",
      "source": [
        "# Balanced Classes "
      ],
      "metadata": {
        "id": "7TkhAmqcAXlv"
      },
      "id": "7TkhAmqcAXlv"
    },
    {
      "cell_type": "code",
      "source": [
        "d['label'].value_counts()"
      ],
      "metadata": {
        "colab": {
          "base_uri": "https://localhost:8080/"
        },
        "id": "NpiQWjtMAdk6",
        "outputId": "d586e86c-66b9-4731-afa7-dd25edad820f"
      },
      "id": "NpiQWjtMAdk6",
      "execution_count": null,
      "outputs": [
        {
          "output_type": "execute_result",
          "data": {
            "text/plain": [
              "sensemaking    462\n",
              "problem        425\n",
              "Name: label, dtype: int64"
            ]
          },
          "metadata": {},
          "execution_count": 29
        }
      ]
    },
    {
      "cell_type": "markdown",
      "source": [
        "The labels are balanced."
      ],
      "metadata": {
        "id": "0m37qqBhB8ET"
      },
      "id": "0m37qqBhB8ET"
    },
    {
      "cell_type": "markdown",
      "source": [
        "# Top Features"
      ],
      "metadata": {
        "id": "4Oc3QwABl9XA"
      },
      "id": "4Oc3QwABl9XA"
    },
    {
      "cell_type": "code",
      "source": [
        "tfidf_top_words_post = []\n",
        "tfidf_top_words_post.append(d[d['label'] == 'sensemaking']['Post'].str.cat(sep=' '))\n",
        "tfidf_top_words_post.append(d[d['label'] == 'problem']['Post'].str.cat(sep=' '))\n",
        "\n",
        "tfidf_top_words_label = ['sensemaking', 'problem']\n",
        "\n",
        "tfidf_top_words = pd.DataFrame(tfidf_top_words_post, tfidf_top_words_label).reset_index()\n",
        "tfidf_top_words.columns = ['label', 'post']"
      ],
      "metadata": {
        "id": "TWPdDYp6mMuA"
      },
      "id": "TWPdDYp6mMuA",
      "execution_count": null,
      "outputs": []
    },
    {
      "cell_type": "code",
      "source": [
        "def get_tfidf_top_features(documents,n_top=5000):\n",
        "  tfidf_vectorizer = TfidfVectorizer(max_df=0.95, min_df=1,  stop_words='english')\n",
        "  tfidf = tfidf_vectorizer.fit_transform(documents)\n",
        "  tfidf_sensemaking = tfidf[0]\n",
        "  tfidf_problem = tfidf[1]\n",
        "\n",
        "  importance_sensemaking = np.argsort(np.asarray(tfidf_sensemaking.mean(axis=0)).ravel())[::-1]\n",
        "  importance_problem = np.argsort(np.asarray(tfidf_problem.mean(axis=0)).ravel())[::-1]\n",
        "\n",
        "  tfidf_feature_names = np.array(tfidf_vectorizer.get_feature_names())\n",
        "\n",
        "  return tfidf_feature_names[importance_sensemaking[:n_top]], tfidf_feature_names[importance_problem[:n_top]]"
      ],
      "metadata": {
        "id": "Bz6gISBLCtWe"
      },
      "id": "Bz6gISBLCtWe",
      "execution_count": null,
      "outputs": []
    },
    {
      "cell_type": "code",
      "source": [
        "top_words_sensemaking, top_words_problem = get_tfidf_top_features(tfidf_top_words['post'])"
      ],
      "metadata": {
        "id": "_VAWvI7LCvRm",
        "colab": {
          "base_uri": "https://localhost:8080/"
        },
        "outputId": "024a585d-2edd-4a4e-f515-14cd51e28839"
      },
      "id": "_VAWvI7LCvRm",
      "execution_count": null,
      "outputs": [
        {
          "output_type": "stream",
          "name": "stderr",
          "text": [
            "/usr/local/lib/python3.8/dist-packages/sklearn/utils/deprecation.py:87: FutureWarning: Function get_feature_names is deprecated; get_feature_names is deprecated in 1.0 and will be removed in 1.2. Please use get_feature_names_out instead.\n",
            "  warnings.warn(msg, category=FutureWarning)\n"
          ]
        }
      ]
    },
    {
      "cell_type": "code",
      "source": [
        "top_words_sensemaking"
      ],
      "metadata": {
        "colab": {
          "base_uri": "https://localhost:8080/"
        },
        "id": "vlNZJoDU0uCO",
        "outputId": "6bb944a6-3e32-433d-d8df-a89f5d641fe3"
      },
      "id": "vlNZJoDU0uCO",
      "execution_count": null,
      "outputs": [
        {
          "output_type": "execute_result",
          "data": {
            "text/plain": [
              "array(['caption', 'iginstant', 'rank', ..., 'rewarding', 'rewarded',\n",
              "       'shock'], dtype='<U50')"
            ]
          },
          "metadata": {},
          "execution_count": 33
        }
      ]
    },
    {
      "cell_type": "code",
      "source": [
        "top_words_problem"
      ],
      "metadata": {
        "colab": {
          "base_uri": "https://localhost:8080/"
        },
        "id": "s1xN2irY04C9",
        "outputId": "9e7a8185-5a26-4713-973a-6859d4c6cc4a"
      },
      "id": "s1xN2irY04C9",
      "execution_count": null,
      "outputs": [
        {
          "output_type": "execute_result",
          "data": {
            "text/plain": [
              "array(['car', 'appreciate', 'ass', ..., 'moral', 'mood', '00'],\n",
              "      dtype='<U50')"
            ]
          },
          "metadata": {},
          "execution_count": 34
        }
      ]
    },
    {
      "cell_type": "markdown",
      "source": [
        "# Feature Engineering & Data Cleaning"
      ],
      "metadata": {
        "id": "uC6PcW65qydB"
      },
      "id": "uC6PcW65qydB"
    },
    {
      "cell_type": "code",
      "source": [
        "d = d.reset_index(drop=True)"
      ],
      "metadata": {
        "id": "8Co2Es2lyb0L"
      },
      "id": "8Co2Es2lyb0L",
      "execution_count": null,
      "outputs": []
    },
    {
      "cell_type": "code",
      "source": [
        "import re\n",
        "\n",
        "def count_and_remove_urls(text):\n",
        "    url_pattern = re.compile(r'http[s]?://(?:[a-zA-Z]|[0-9]|[$-_@.&+]|[!*\\(\\),]|(?:%[0-9a-fA-F][0-9a-fA-F]))+')\n",
        "    urls = re.findall(url_pattern, text)\n",
        "    count = len(urls)\n",
        "    text_without_urls = re.sub(url_pattern, '', text)\n",
        "    return count, text_without_urls\n",
        "\n",
        "d['url_count'], d['post_cleaned'] = zip(*d['Post'].apply(count_and_remove_urls))"
      ],
      "metadata": {
        "id": "kppxkUIZtcon"
      },
      "id": "kppxkUIZtcon",
      "execution_count": null,
      "outputs": []
    },
    {
      "cell_type": "code",
      "source": [
        "def count_and_remove_question_marks(text):\n",
        "    count = text.count('?')\n",
        "    text_without_question_marks = text.replace('?', '')\n",
        "    return count, text_without_question_marks\n",
        "\n",
        "d['question_mark_count'], d['post_cleaned'] = zip(*d['post_cleaned'].apply(count_and_remove_question_marks))\n"
      ],
      "metadata": {
        "id": "AHS89Nb9q3s6"
      },
      "id": "AHS89Nb9q3s6",
      "execution_count": null,
      "outputs": []
    },
    {
      "cell_type": "code",
      "source": [
        "#function to remove punctuations\n",
        "d['post_cleaned'] = d['post_cleaned'].str.replace('[^\\w\\s]', '')\n",
        "d['post_cleaned'].head()"
      ],
      "metadata": {
        "id": "kU834ONw56BV",
        "colab": {
          "base_uri": "https://localhost:8080/"
        },
        "outputId": "250cc736-c0b6-4144-9741-34cffccf9058"
      },
      "id": "kU834ONw56BV",
      "execution_count": null,
      "outputs": [
        {
          "output_type": "stream",
          "name": "stderr",
          "text": [
            "<ipython-input-38-be5f8aeb2bf1>:2: FutureWarning: The default value of regex will change from True to False in a future version.\n",
            "  d['post_cleaned'] = d['post_cleaned'].str.replace('[^\\w\\s]', '')\n"
          ]
        },
        {
          "output_type": "execute_result",
          "data": {
            "text/plain": [
              "0    the instagram algorithm has a timefromimagecap...\n",
              "1    Since Instagram took the social media world by...\n",
              "2    Did instagram change their algorithm yesterday...\n",
              "3    Quick Google search doesnt show anything impor...\n",
              "4    First and foremost you either gotta stick it o...\n",
              "Name: post_cleaned, dtype: object"
            ]
          },
          "metadata": {},
          "execution_count": 38
        }
      ]
    },
    {
      "cell_type": "code",
      "source": [
        "#function to remove stopwords\n",
        "import nltk\n",
        "nltk.download('stopwords')\n",
        "from nltk.corpus import stopwords\n",
        "\n",
        "stop = stopwords.words('english')\n",
        "d['post_cleaned'] = d['post_cleaned'].apply(lambda x: \" \".join(x for x in x.split() if x not in stop))\n",
        "d['post_cleaned'].head()"
      ],
      "metadata": {
        "id": "xQRy4Li758Wf",
        "colab": {
          "base_uri": "https://localhost:8080/"
        },
        "outputId": "94ad8436-fc0b-4295-eecb-61e5edf8b70b"
      },
      "id": "xQRy4Li758Wf",
      "execution_count": null,
      "outputs": [
        {
          "output_type": "stream",
          "name": "stderr",
          "text": [
            "[nltk_data] Downloading package stopwords to /root/nltk_data...\n",
            "[nltk_data]   Unzipping corpora/stopwords.zip.\n"
          ]
        },
        {
          "output_type": "execute_result",
          "data": {
            "text/plain": [
              "0    instagram algorithm timefromimagecapture varia...\n",
              "1    Since Instagram took social media world storm ...\n",
              "2    Did instagram change algorithm yesterday My po...\n",
              "3    Quick Google search doesnt show anything impor...\n",
              "4    First foremost either gotta stick spread word ...\n",
              "Name: post_cleaned, dtype: object"
            ]
          },
          "metadata": {},
          "execution_count": 39
        }
      ]
    },
    {
      "cell_type": "code",
      "source": [
        "#function to perform lemmatization/stemming\n",
        "\n",
        "from nltk.stem import PorterStemmer\n",
        "st = PorterStemmer()\n",
        "d['post_cleaned'] = d['post_cleaned'].apply(lambda x: \" \".join([st.stem(word) for word in x.split()]))\n",
        "d['post_cleaned']"
      ],
      "metadata": {
        "id": "7nSIHAfn6AjQ",
        "colab": {
          "base_uri": "https://localhost:8080/"
        },
        "outputId": "61b7dbd5-7ffb-446b-8fcf-44df02bf03f7"
      },
      "id": "7nSIHAfn6AjQ",
      "execution_count": null,
      "outputs": [
        {
          "output_type": "execute_result",
          "data": {
            "text/plain": [
              "0      instagram algorithm timefromimagecaptur variab...\n",
              "1      sinc instagram took social media world storm i...\n",
              "2      did instagram chang algorithm yesterday my pos...\n",
              "3      quick googl search doesnt show anyth import en...\n",
              "4      first foremost either gotta stick spread word ...\n",
              "                             ...                        \n",
              "882    ha instagram algorithm algorithm gener user po...\n",
              "883    i think type giveaway reason ig algorithm take...\n",
              "884    i keep read ig algorithm right theyr realli pu...\n",
              "885    i think afford time dont want take break often...\n",
              "886    as product focus instagram page consid instagr...\n",
              "Name: post_cleaned, Length: 887, dtype: object"
            ]
          },
          "metadata": {},
          "execution_count": 40
        }
      ]
    },
    {
      "cell_type": "code",
      "source": [
        "# Define a function to count words in a string\n",
        "def count_words(text):\n",
        "    words = text.split()\n",
        "    return len(words)\n",
        "\n",
        "# Apply the count_words function to the 'text_column' column\n",
        "d['word_count'] = d['post_cleaned'].apply(count_words)"
      ],
      "metadata": {
        "id": "VaL-OvbV32Go"
      },
      "id": "VaL-OvbV32Go",
      "execution_count": null,
      "outputs": []
    },
    {
      "cell_type": "code",
      "source": [
        "import matplotlib.pyplot as plt\n",
        "\n",
        "d[['label', 'question_mark_count']].groupby('label').sum().plot(kind = 'bar')\n",
        "\n",
        "# Add labels and title\n",
        "plt.xlabel('Label')\n",
        "plt.ylabel('Question Mark Count')\n",
        "plt.title('Question Mark Count by Label')\n",
        "\n",
        "# Show plot\n",
        "plt.show()\n"
      ],
      "metadata": {
        "colab": {
          "base_uri": "https://localhost:8080/",
          "height": 352
        },
        "id": "Tjeeoe2w2g6Q",
        "outputId": "6381fae0-cb83-4d4b-f040-2bbcc0cda4ba"
      },
      "id": "Tjeeoe2w2g6Q",
      "execution_count": null,
      "outputs": [
        {
          "output_type": "display_data",
          "data": {
            "text/plain": [
              "<Figure size 432x288 with 1 Axes>"
            ],
            "image/png": "[encoded data removed]"
          },
          "metadata": {
            "needs_background": "light"
          }
        }
      ]
    },
    {
      "cell_type": "code",
      "source": [
        "import matplotlib.pyplot as plt\n",
        "\n",
        "d[['label', 'url_count']].groupby('label').sum().plot(kind = 'bar')\n",
        "\n",
        "# Add labels and title\n",
        "plt.xlabel('Label')\n",
        "plt.ylabel('URL Count')\n",
        "plt.title('URL Count by Label')\n",
        "\n",
        "# Show plot\n",
        "plt.show()\n"
      ],
      "metadata": {
        "colab": {
          "base_uri": "https://localhost:8080/",
          "height": 352
        },
        "id": "3sLfjEM240dO",
        "outputId": "776d3de2-ab34-4052-e93b-297591ca58ba"
      },
      "id": "3sLfjEM240dO",
      "execution_count": null,
      "outputs": [
        {
          "output_type": "display_data",
          "data": {
            "text/plain": [
              "<Figure size 432x288 with 1 Axes>"
            ],
            "image/png": "[encoded data removed]"
          },
          "metadata": {
            "needs_background": "light"
          }
        }
      ]
    },
    {
      "cell_type": "code",
      "source": [
        "import matplotlib.pyplot as plt\n",
        "\n",
        "d[['label', 'NEGATIVE']].groupby('label').sum().plot(kind = 'bar')\n",
        "\n",
        "# Add labels and title\n",
        "plt.xlabel('Label')\n",
        "plt.ylabel('NEGATIVE Count')\n",
        "plt.title('NEGATIVE Count by Label')\n",
        "\n",
        "# Show plot\n",
        "plt.show()"
      ],
      "metadata": {
        "colab": {
          "base_uri": "https://localhost:8080/",
          "height": 352
        },
        "id": "GTlpfH5B6aMV",
        "outputId": "56021c98-5f1e-45b4-be1e-39506c660644"
      },
      "id": "GTlpfH5B6aMV",
      "execution_count": null,
      "outputs": [
        {
          "output_type": "display_data",
          "data": {
            "text/plain": [
              "<Figure size 432x288 with 1 Axes>"
            ],
            "image/png": "[encoded data removed]"
          },
          "metadata": {
            "needs_background": "light"
          }
        }
      ]
    },
    {
      "cell_type": "markdown",
      "source": [
        "# Preprocessing Posts"
      ],
      "metadata": {
        "id": "39VxWbbf6F3i"
      },
      "id": "39VxWbbf6F3i"
    },
    {
      "cell_type": "code",
      "source": [
        "# Function to extract only matching words from a sentence\n",
        "def extract_matching_words(sentence, word_list):\n",
        "    return ' '.join([word for word in sentence.split() if word in word_list])\n",
        "\n",
        "d.loc[d['label'] == 'problem', 'post_reduced'] = d['post_cleaned'].apply(extract_matching_words, word_list=top_words_problem)\n",
        "d.loc[d['label'] == 'sensemaking', 'post_reduced'] = d['post_cleaned'].apply(extract_matching_words, word_list=top_words_sensemaking)"
      ],
      "metadata": {
        "id": "LaNp5LjD6_1-"
      },
      "id": "LaNp5LjD6_1-",
      "execution_count": null,
      "outputs": []
    },
    {
      "cell_type": "markdown",
      "id": "1ab78c61",
      "metadata": {
        "id": "1ab78c61"
      },
      "source": [
        "# TF-IDF Pre-Processing"
      ]
    },
    {
      "cell_type": "code",
      "execution_count": null,
      "id": "782ad6c1",
      "metadata": {
        "id": "782ad6c1"
      },
      "outputs": [],
      "source": [
        "def extract_features(df,field,training_data,testing_data,type=\"counts\"):\n",
        "    \"\"\"Extract features using different methods\"\"\"\n",
        "    \n",
        "    # the 'field' we are taking in is Post -- but we could add more features\n",
        "    \n",
        "    if \"binary\" in type:\n",
        "        \n",
        "        # BINARY FEATURE REPRESENTATION\n",
        "        cv= CountVectorizer(binary=True, max_df=0.95)\n",
        "        cv.fit_transform(training_data[field].values)\n",
        "        \n",
        "        train_feature_set=cv.transform(training_data[field].values)\n",
        "        test_feature_set=cv.transform(testing_data[field].values)\n",
        "        \n",
        "        return train_feature_set,test_feature_set,cv\n",
        "  \n",
        "    elif \"counts\" in type:\n",
        "        \n",
        "        # COUNT BASED FEATURE REPRESENTATION\n",
        "        cv= CountVectorizer(binary=False, max_df=0.95)\n",
        "        cv.fit_transform(training_data[field].values)\n",
        "        \n",
        "        train_feature_set=cv.transform(training_data[field].values)\n",
        "        test_feature_set=cv.transform(testing_data[field].values)\n",
        "        \n",
        "        return train_feature_set,test_feature_set,cv\n",
        "    "
      ]
    },
    {
      "cell_type": "markdown",
      "id": "faade571",
      "metadata": {
        "id": "faade571"
      },
      "source": [
        "## Train Test Split"
      ]
    },
    {
      "cell_type": "code",
      "source": [
        "#backup\n",
        "d_bkp = d\n",
        "# d = d_bkp"
      ],
      "metadata": {
        "id": "YVGbEC_LWSPO"
      },
      "id": "YVGbEC_LWSPO",
      "execution_count": null,
      "outputs": []
    },
    {
      "cell_type": "code",
      "source": [
        "d"
      ],
      "metadata": {
        "colab": {
          "base_uri": "https://localhost:8080/",
          "height": 1000
        },
        "id": "W7P259Jt7Fxt",
        "outputId": "f9363b37-c7bc-460a-bd46-a9618e4506e4"
      },
      "id": "W7P259Jt7Fxt",
      "execution_count": null,
      "outputs": [
        {
          "output_type": "execute_result",
          "data": {
            "text/plain": [
              "                                                  Post           Subreddit  \\\n",
              "0    the instagram algorithm has a time-from-image-...           AskReddit   \n",
              "1    Since Instagram took the social media world by...         socialmedia   \n",
              "2    Did instagram change their algorithm yesterday...           Instagram   \n",
              "3    [Quick Google search doesn't show anything imp...        Entrepreneur   \n",
              "4    First and foremost, you either gotta stick it ...         photography   \n",
              "..                                                 ...                 ...   \n",
              "882  Has to do with the Instagram algorithm, the al...  InstagramMarketing   \n",
              "883  I think this types of giveaways are a reason w...           blogsnark   \n",
              "884  I keep reading about the IG algorithm right no...           Instagram   \n",
              "885  I think they can afford time off, they just do...           blogsnark   \n",
              "886  As with any product focused instagram page you...           Instagram   \n",
              "\n",
              "                    Date         Type sentiment        label  MIXED  NEGATIVE  \\\n",
              "0    2012-04-08 19:59:20     comments   NEUTRAL  sensemaking      0         0   \n",
              "1    2014-09-12 20:58:19  submissions   NEUTRAL  sensemaking      0         0   \n",
              "2    2015-08-28 11:57:23  submissions   NEUTRAL      problem      0         0   \n",
              "3    2015-04-13 13:58:37     comments   NEUTRAL      problem      0         0   \n",
              "4    2015-11-30 11:00:54     comments  NEGATIVE  sensemaking      0         1   \n",
              "..                   ...          ...       ...          ...    ...       ...   \n",
              "882  2021-08-15 13:03:45     comments     MIXED  sensemaking      1         0   \n",
              "883  2021-02-09 17:09:22     comments   NEUTRAL      problem      0         0   \n",
              "884  2021-02-10 14:17:06     comments  POSITIVE  sensemaking      0         0   \n",
              "885   2021-01-23 1:36:26     comments  NEGATIVE  sensemaking      0         1   \n",
              "886   2021-01-01 5:34:11     comments   NEUTRAL  sensemaking      0         0   \n",
              "\n",
              "     NEUTRAL  POSITIVE  url_count  \\\n",
              "0          1         0          0   \n",
              "1          1         0          1   \n",
              "2          1         0          0   \n",
              "3          1         0          1   \n",
              "4          0         0          0   \n",
              "..       ...       ...        ...   \n",
              "882        0         0          0   \n",
              "883        1         0          0   \n",
              "884        0         1          0   \n",
              "885        0         0          0   \n",
              "886        1         0          2   \n",
              "\n",
              "                                          post_cleaned  question_mark_count  \\\n",
              "0    instagram algorithm timefromimagecaptur variab...                    0   \n",
              "1    sinc instagram took social media world storm i...                    0   \n",
              "2    did instagram chang algorithm yesterday my pos...                    2   \n",
              "3    quick googl search doesnt show anyth import en...                    1   \n",
              "4    first foremost either gotta stick spread word ...                    1   \n",
              "..                                                 ...                  ...   \n",
              "882  ha instagram algorithm algorithm gener user po...                    0   \n",
              "883  i think type giveaway reason ig algorithm take...                    0   \n",
              "884  i keep read ig algorithm right theyr realli pu...                    2   \n",
              "885  i think afford time dont want take break often...                    0   \n",
              "886  as product focus instagram page consid instagr...                    0   \n",
              "\n",
              "     word_count                                       post_reduced  \n",
              "0            12                                        yellow fade  \n",
              "1            41                       storm ive thorough inner ive  \n",
              "2            19                                                     \n",
              "3            24                      doesnt differ slowdown server  \n",
              "4            99  foremost mouth cheat aim ive photograph trend ...  \n",
              "..          ...                                                ...  \n",
              "882          48                                  invalid doesnt jt  \n",
              "883          15                                           giveaway  \n",
              "884          86                                    pokémon hip hop  \n",
              "885          29                                        afford rank  \n",
              "886          92                             metric id harm starter  \n",
              "\n",
              "[887 rows x 15 columns]"
            ],
            "text/html": [
              "\n",
              "  <div id=\"df-76759ba8-5bb1-4501-b619-1e958b2947d6\">\n",
              "    <div class=\"colab-df-container\">\n",
              "      <div>\n",
              "<style scoped>\n",
              "    .dataframe tbody tr th:only-of-type {\n",
              "        vertical-align: middle;\n",
              "    }\n",
              "\n",
              "    .dataframe tbody tr th {\n",
              "        vertical-align: top;\n",
              "    }\n",
              "\n",
              "    .dataframe thead th {\n",
              "        text-align: right;\n",
              "    }\n",
              "</style>\n",
              "<table border=\"1\" class=\"dataframe\">\n",
              "  <thead>\n",
              "    <tr style=\"text-align: right;\">\n",
              "      <th></th>\n",
              "      <th>Post</th>\n",
              "      <th>Subreddit</th>\n",
              "      <th>Date</th>\n",
              "      <th>Type</th>\n",
              "      <th>sentiment</th>\n",
              "      <th>label</th>\n",
              "      <th>MIXED</th>\n",
              "      <th>NEGATIVE</th>\n",
              "      <th>NEUTRAL</th>\n",
              "      <th>POSITIVE</th>\n",
              "      <th>url_count</th>\n",
              "      <th>post_cleaned</th>\n",
              "      <th>question_mark_count</th>\n",
              "      <th>word_count</th>\n",
              "      <th>post_reduced</th>\n",
              "    </tr>\n",
              "  </thead>\n",
              "  <tbody>\n",
              "    <tr>\n",
              "      <th>0</th>\n",
              "      <td>the instagram algorithm has a time-from-image-...</td>\n",
              "      <td>AskReddit</td>\n",
              "      <td>2012-04-08 19:59:20</td>\n",
              "      <td>comments</td>\n",
              "      <td>NEUTRAL</td>\n",
              "      <td>sensemaking</td>\n",
              "      <td>0</td>\n",
              "      <td>0</td>\n",
              "      <td>1</td>\n",
              "      <td>0</td>\n",
              "      <td>0</td>\n",
              "      <td>instagram algorithm timefromimagecaptur variab...</td>\n",
              "      <td>0</td>\n",
              "      <td>12</td>\n",
              "      <td>yellow fade</td>\n",
              "    </tr>\n",
              "    <tr>\n",
              "      <th>1</th>\n",
              "      <td>Since Instagram took the social media world by...</td>\n",
              "      <td>socialmedia</td>\n",
              "      <td>2014-09-12 20:58:19</td>\n",
              "      <td>submissions</td>\n",
              "      <td>NEUTRAL</td>\n",
              "      <td>sensemaking</td>\n",
              "      <td>0</td>\n",
              "      <td>0</td>\n",
              "      <td>1</td>\n",
              "      <td>0</td>\n",
              "      <td>1</td>\n",
              "      <td>sinc instagram took social media world storm i...</td>\n",
              "      <td>0</td>\n",
              "      <td>41</td>\n",
              "      <td>storm ive thorough inner ive</td>\n",
              "    </tr>\n",
              "    <tr>\n",
              "      <th>2</th>\n",
              "      <td>Did instagram change their algorithm yesterday...</td>\n",
              "      <td>Instagram</td>\n",
              "      <td>2015-08-28 11:57:23</td>\n",
              "      <td>submissions</td>\n",
              "      <td>NEUTRAL</td>\n",
              "      <td>problem</td>\n",
              "      <td>0</td>\n",
              "      <td>0</td>\n",
              "      <td>1</td>\n",
              "      <td>0</td>\n",
              "      <td>0</td>\n",
              "      <td>did instagram chang algorithm yesterday my pos...</td>\n",
              "      <td>2</td>\n",
              "      <td>19</td>\n",
              "      <td></td>\n",
              "    </tr>\n",
              "    <tr>\n",
              "      <th>3</th>\n",
              "      <td>[Quick Google search doesn't show anything imp...</td>\n",
              "      <td>Entrepreneur</td>\n",
              "      <td>2015-04-13 13:58:37</td>\n",
              "      <td>comments</td>\n",
              "      <td>NEUTRAL</td>\n",
              "      <td>problem</td>\n",
              "      <td>0</td>\n",
              "      <td>0</td>\n",
              "      <td>1</td>\n",
              "      <td>0</td>\n",
              "      <td>1</td>\n",
              "      <td>quick googl search doesnt show anyth import en...</td>\n",
              "      <td>1</td>\n",
              "      <td>24</td>\n",
              "      <td>doesnt differ slowdown server</td>\n",
              "    </tr>\n",
              "    <tr>\n",
              "      <th>4</th>\n",
              "      <td>First and foremost, you either gotta stick it ...</td>\n",
              "      <td>photography</td>\n",
              "      <td>2015-11-30 11:00:54</td>\n",
              "      <td>comments</td>\n",
              "      <td>NEGATIVE</td>\n",
              "      <td>sensemaking</td>\n",
              "      <td>0</td>\n",
              "      <td>1</td>\n",
              "      <td>0</td>\n",
              "      <td>0</td>\n",
              "      <td>0</td>\n",
              "      <td>first foremost either gotta stick spread word ...</td>\n",
              "      <td>1</td>\n",
              "      <td>99</td>\n",
              "      <td>foremost mouth cheat aim ive photograph trend ...</td>\n",
              "    </tr>\n",
              "    <tr>\n",
              "      <th>...</th>\n",
              "      <td>...</td>\n",
              "      <td>...</td>\n",
              "      <td>...</td>\n",
              "      <td>...</td>\n",
              "      <td>...</td>\n",
              "      <td>...</td>\n",
              "      <td>...</td>\n",
              "      <td>...</td>\n",
              "      <td>...</td>\n",
              "      <td>...</td>\n",
              "      <td>...</td>\n",
              "      <td>...</td>\n",
              "      <td>...</td>\n",
              "      <td>...</td>\n",
              "      <td>...</td>\n",
              "    </tr>\n",
              "    <tr>\n",
              "      <th>882</th>\n",
              "      <td>Has to do with the Instagram algorithm, the al...</td>\n",
              "      <td>InstagramMarketing</td>\n",
              "      <td>2021-08-15 13:03:45</td>\n",
              "      <td>comments</td>\n",
              "      <td>MIXED</td>\n",
              "      <td>sensemaking</td>\n",
              "      <td>1</td>\n",
              "      <td>0</td>\n",
              "      <td>0</td>\n",
              "      <td>0</td>\n",
              "      <td>0</td>\n",
              "      <td>ha instagram algorithm algorithm gener user po...</td>\n",
              "      <td>0</td>\n",
              "      <td>48</td>\n",
              "      <td>invalid doesnt jt</td>\n",
              "    </tr>\n",
              "    <tr>\n",
              "      <th>883</th>\n",
              "      <td>I think this types of giveaways are a reason w...</td>\n",
              "      <td>blogsnark</td>\n",
              "      <td>2021-02-09 17:09:22</td>\n",
              "      <td>comments</td>\n",
              "      <td>NEUTRAL</td>\n",
              "      <td>problem</td>\n",
              "      <td>0</td>\n",
              "      <td>0</td>\n",
              "      <td>1</td>\n",
              "      <td>0</td>\n",
              "      <td>0</td>\n",
              "      <td>i think type giveaway reason ig algorithm take...</td>\n",
              "      <td>0</td>\n",
              "      <td>15</td>\n",
              "      <td>giveaway</td>\n",
              "    </tr>\n",
              "    <tr>\n",
              "      <th>884</th>\n",
              "      <td>I keep reading about the IG algorithm right no...</td>\n",
              "      <td>Instagram</td>\n",
              "      <td>2021-02-10 14:17:06</td>\n",
              "      <td>comments</td>\n",
              "      <td>POSITIVE</td>\n",
              "      <td>sensemaking</td>\n",
              "      <td>0</td>\n",
              "      <td>0</td>\n",
              "      <td>0</td>\n",
              "      <td>1</td>\n",
              "      <td>0</td>\n",
              "      <td>i keep read ig algorithm right theyr realli pu...</td>\n",
              "      <td>2</td>\n",
              "      <td>86</td>\n",
              "      <td>pokémon hip hop</td>\n",
              "    </tr>\n",
              "    <tr>\n",
              "      <th>885</th>\n",
              "      <td>I think they can afford time off, they just do...</td>\n",
              "      <td>blogsnark</td>\n",
              "      <td>2021-01-23 1:36:26</td>\n",
              "      <td>comments</td>\n",
              "      <td>NEGATIVE</td>\n",
              "      <td>sensemaking</td>\n",
              "      <td>0</td>\n",
              "      <td>1</td>\n",
              "      <td>0</td>\n",
              "      <td>0</td>\n",
              "      <td>0</td>\n",
              "      <td>i think afford time dont want take break often...</td>\n",
              "      <td>0</td>\n",
              "      <td>29</td>\n",
              "      <td>afford rank</td>\n",
              "    </tr>\n",
              "    <tr>\n",
              "      <th>886</th>\n",
              "      <td>As with any product focused instagram page you...</td>\n",
              "      <td>Instagram</td>\n",
              "      <td>2021-01-01 5:34:11</td>\n",
              "      <td>comments</td>\n",
              "      <td>NEUTRAL</td>\n",
              "      <td>sensemaking</td>\n",
              "      <td>0</td>\n",
              "      <td>0</td>\n",
              "      <td>1</td>\n",
              "      <td>0</td>\n",
              "      <td>2</td>\n",
              "      <td>as product focus instagram page consid instagr...</td>\n",
              "      <td>0</td>\n",
              "      <td>92</td>\n",
              "      <td>metric id harm starter</td>\n",
              "    </tr>\n",
              "  </tbody>\n",
              "</table>\n",
              "<p>887 rows × 15 columns</p>\n",
              "</div>\n",
              "      <button class=\"colab-df-convert\" onclick=\"convertToInteractive('df-76759ba8-5bb1-4501-b619-1e958b2947d6')\"\n",
              "              title=\"Convert this dataframe to an interactive table.\"\n",
              "              style=\"display:none;\">\n",
              "        \n",
              "  <svg xmlns=\"http://www.w3.org/2000/svg\" height=\"24px\"viewBox=\"0 0 24 24\"\n",
              "       width=\"24px\">\n",
              "    <path d=\"M0 0h24v24H0V0z\" fill=\"none\"/>\n",
              "    <path d=\"M18.56 5.44l.94 2.06.94-2.06 2.06-.94-2.06-.94-.94-2.06-.94 2.06-2.06.94zm-11 1L8.5 8.5l.94-2.06 2.06-.94-2.06-.94L8.5 2.5l-.94 2.06-2.06.94zm10 10l.94 2.06.94-2.06 2.06-.94-2.06-.94-.94-2.06-.94 2.06-2.06.94z\"/><path d=\"M17.41 7.96l-1.37-1.37c-.4-.4-.92-.59-1.43-.59-.52 0-1.04.2-1.43.59L10.3 9.45l-7.72 7.72c-.78.78-.78 2.05 0 2.83L4 21.41c.39.39.9.59 1.41.59.51 0 1.02-.2 1.41-.59l7.78-7.78 2.81-2.81c.8-.78.8-2.07 0-2.86zM5.41 20L4 18.59l7.72-7.72 1.47 1.35L5.41 20z\"/>\n",
              "  </svg>\n",
              "      </button>\n",
              "      \n",
              "  <style>\n",
              "    .colab-df-container {\n",
              "      display:flex;\n",
              "      flex-wrap:wrap;\n",
              "      gap: 12px;\n",
              "    }\n",
              "\n",
              "    .colab-df-convert {\n",
              "      background-color: #E8F0FE;\n",
              "      border: none;\n",
              "      border-radius: 50%;\n",
              "      cursor: pointer;\n",
              "      display: none;\n",
              "      fill: #1967D2;\n",
              "      height: 32px;\n",
              "      padding: 0 0 0 0;\n",
              "      width: 32px;\n",
              "    }\n",
              "\n",
              "    .colab-df-convert:hover {\n",
              "      background-color: #E2EBFA;\n",
              "      box-shadow: 0px 1px 2px rgba(60, 64, 67, 0.3), 0px 1px 3px 1px rgba(60, 64, 67, 0.15);\n",
              "      fill: #174EA6;\n",
              "    }\n",
              "\n",
              "    [theme=dark] .colab-df-convert {\n",
              "      background-color: #3B4455;\n",
              "      fill: #D2E3FC;\n",
              "    }\n",
              "\n",
              "    [theme=dark] .colab-df-convert:hover {\n",
              "      background-color: #434B5C;\n",
              "      box-shadow: 0px 1px 3px 1px rgba(0, 0, 0, 0.15);\n",
              "      filter: drop-shadow(0px 1px 2px rgba(0, 0, 0, 0.3));\n",
              "      fill: #FFFFFF;\n",
              "    }\n",
              "  </style>\n",
              "\n",
              "      <script>\n",
              "        const buttonEl =\n",
              "          document.querySelector('#df-76759ba8-5bb1-4501-b619-1e958b2947d6 button.colab-df-convert');\n",
              "        buttonEl.style.display =\n",
              "          google.colab.kernel.accessAllowed ? 'block' : 'none';\n",
              "\n",
              "        async function convertToInteractive(key) {\n",
              "          const element = document.querySelector('#df-76759ba8-5bb1-4501-b619-1e958b2947d6');\n",
              "          const dataTable =\n",
              "            await google.colab.kernel.invokeFunction('convertToInteractive',\n",
              "                                                     [key], {});\n",
              "          if (!dataTable) return;\n",
              "\n",
              "          const docLinkHtml = 'Like what you see? Visit the ' +\n",
              "            '<a target=\"_blank\" href=https://colab.research.google.com/notebooks/data_table.ipynb>data table notebook</a>'\n",
              "            + ' to learn more about interactive tables.';\n",
              "          element.innerHTML = '';\n",
              "          dataTable['output_type'] = 'display_data';\n",
              "          await google.colab.output.renderOutput(dataTable, element);\n",
              "          const docLink = document.createElement('div');\n",
              "          docLink.innerHTML = docLinkHtml;\n",
              "          element.appendChild(docLink);\n",
              "        }\n",
              "      </script>\n",
              "    </div>\n",
              "  </div>\n",
              "  "
            ]
          },
          "metadata": {},
          "execution_count": 68
        }
      ]
    },
    {
      "cell_type": "code",
      "source": [
        "d = d[['post_cleaned', 'url_count', 'question_mark_count', 'MIXED', 'NEGATIVE', 'NEUTRAL', 'POSITIVE', 'label', 'word_count']]\n"
      ],
      "metadata": {
        "id": "bEiyMvyb0vGf"
      },
      "id": "bEiyMvyb0vGf",
      "execution_count": null,
      "outputs": []
    },
    {
      "cell_type": "code",
      "execution_count": null,
      "id": "51be962d",
      "metadata": {
        "id": "51be962d"
      },
      "outputs": [],
      "source": [
        "training_data, testing_data = train_test_split(d,test_size=0.25,random_state = 2000)\n",
        "Y_train=training_data['label'].values\n",
        "Y_test=testing_data['label'].values\n",
        "     \n",
        "# GET FEATURES\n",
        "X_train,X_test,feature_transformer=extract_features(d,\"post_cleaned\",training_data,testing_data,type='counts')\n"
      ]
    },
    {
      "cell_type": "code",
      "source": [
        "from scipy import sparse\n",
        "\n",
        "training_data = training_data[['url_count', 'question_mark_count', 'MIXED', 'NEGATIVE', 'NEUTRAL', 'POSITIVE', 'word_count']]\n",
        "testing_data = testing_data[['url_count', 'question_mark_count', 'MIXED', 'NEGATIVE', 'NEUTRAL', 'POSITIVE', 'word_count']]\n",
        "\n",
        "X_train = sparse.hstack([training_data, X_train]).tocsr()\n",
        "X_test = sparse.hstack([testing_data, X_test]).tocsr()"
      ],
      "metadata": {
        "id": "Y-vdblXiwZ0R"
      },
      "id": "Y-vdblXiwZ0R",
      "execution_count": null,
      "outputs": []
    },
    {
      "cell_type": "markdown",
      "id": "ede8a7e8",
      "metadata": {
        "id": "ede8a7e8"
      },
      "source": [
        "## Logistic Regression"
      ]
    },
    {
      "cell_type": "code",
      "execution_count": null,
      "id": "9a1734ba",
      "metadata": {
        "colab": {
          "base_uri": "https://localhost:8080/"
        },
        "id": "9a1734ba",
        "outputId": "971698a0-c3fd-4363-abbe-024a44f0d6cc"
      },
      "outputs": [
        {
          "output_type": "stream",
          "name": "stdout",
          "text": [
            "[LibLinear]"
          ]
        }
      ],
      "source": [
        "scikit_log_reg = LogisticRegression(verbose=1, solver='liblinear',random_state=0, C=5, penalty='l2',max_iter=1000)\n",
        "model=scikit_log_reg.fit(X_train,Y_train)"
      ]
    },
    {
      "cell_type": "code",
      "execution_count": null,
      "id": "63b956e6",
      "metadata": {
        "id": "63b956e6"
      },
      "outputs": [],
      "source": [
        "# for logistic regression, it gives you a probability for each label. \n",
        "# We are only interested in the most probable label for now, since there are only two labels\n",
        "# therefore our top_k is 1\n",
        "def get_top_k_predictions(model,X_test,k):\n",
        "    \n",
        "    # get probabilities instead of predicted labels, since we want to collect top 3\n",
        "    probs = model.predict_proba(X_test)\n",
        "    # GET TOP K PREDICTIONS BY PROB - note these are just index\n",
        "    best_n = np.argsort(probs, axis=1)[:,-k:]\n",
        "\n",
        "    # GET CATEGORY OF PREDICTIONS\n",
        "    preds=[[model.classes_[predicted_cat] for predicted_cat in prediction] for prediction in best_n]\n",
        "\n",
        "    # REVERSE CATEGORIES - DESCENDING ORDER OF IMPORTANCE\n",
        "    preds=[ item[::-1] for item in preds]\n",
        "    \n",
        "    return preds"
      ]
    },
    {
      "cell_type": "markdown",
      "id": "208f070d",
      "metadata": {
        "id": "208f070d"
      },
      "source": [
        "# Y Test vs Predicted Labels"
      ]
    },
    {
      "cell_type": "code",
      "execution_count": null,
      "id": "6bcbc8f8",
      "metadata": {
        "colab": {
          "base_uri": "https://localhost:8080/",
          "height": 423
        },
        "id": "6bcbc8f8",
        "outputId": "57b344c4-d50b-4228-e0a2-f01f04126e91"
      },
      "outputs": [
        {
          "output_type": "execute_result",
          "data": {
            "text/plain": [
              "            test           pred\n",
              "0        problem  [sensemaking]\n",
              "1        problem      [problem]\n",
              "2    sensemaking  [sensemaking]\n",
              "3    sensemaking  [sensemaking]\n",
              "4        problem  [sensemaking]\n",
              "..           ...            ...\n",
              "217  sensemaking      [problem]\n",
              "218      problem      [problem]\n",
              "219      problem      [problem]\n",
              "220  sensemaking      [problem]\n",
              "221      problem      [problem]\n",
              "\n",
              "[222 rows x 2 columns]"
            ],
            "text/html": [
              "\n",
              "  <div id=\"df-1f5559a6-9d36-44cf-8479-e0730a2ec304\">\n",
              "    <div class=\"colab-df-container\">\n",
              "      <div>\n",
              "<style scoped>\n",
              "    .dataframe tbody tr th:only-of-type {\n",
              "        vertical-align: middle;\n",
              "    }\n",
              "\n",
              "    .dataframe tbody tr th {\n",
              "        vertical-align: top;\n",
              "    }\n",
              "\n",
              "    .dataframe thead th {\n",
              "        text-align: right;\n",
              "    }\n",
              "</style>\n",
              "<table border=\"1\" class=\"dataframe\">\n",
              "  <thead>\n",
              "    <tr style=\"text-align: right;\">\n",
              "      <th></th>\n",
              "      <th>test</th>\n",
              "      <th>pred</th>\n",
              "    </tr>\n",
              "  </thead>\n",
              "  <tbody>\n",
              "    <tr>\n",
              "      <th>0</th>\n",
              "      <td>problem</td>\n",
              "      <td>[sensemaking]</td>\n",
              "    </tr>\n",
              "    <tr>\n",
              "      <th>1</th>\n",
              "      <td>problem</td>\n",
              "      <td>[problem]</td>\n",
              "    </tr>\n",
              "    <tr>\n",
              "      <th>2</th>\n",
              "      <td>sensemaking</td>\n",
              "      <td>[sensemaking]</td>\n",
              "    </tr>\n",
              "    <tr>\n",
              "      <th>3</th>\n",
              "      <td>sensemaking</td>\n",
              "      <td>[sensemaking]</td>\n",
              "    </tr>\n",
              "    <tr>\n",
              "      <th>4</th>\n",
              "      <td>problem</td>\n",
              "      <td>[sensemaking]</td>\n",
              "    </tr>\n",
              "    <tr>\n",
              "      <th>...</th>\n",
              "      <td>...</td>\n",
              "      <td>...</td>\n",
              "    </tr>\n",
              "    <tr>\n",
              "      <th>217</th>\n",
              "      <td>sensemaking</td>\n",
              "      <td>[problem]</td>\n",
              "    </tr>\n",
              "    <tr>\n",
              "      <th>218</th>\n",
              "      <td>problem</td>\n",
              "      <td>[problem]</td>\n",
              "    </tr>\n",
              "    <tr>\n",
              "      <th>219</th>\n",
              "      <td>problem</td>\n",
              "      <td>[problem]</td>\n",
              "    </tr>\n",
              "    <tr>\n",
              "      <th>220</th>\n",
              "      <td>sensemaking</td>\n",
              "      <td>[problem]</td>\n",
              "    </tr>\n",
              "    <tr>\n",
              "      <th>221</th>\n",
              "      <td>problem</td>\n",
              "      <td>[problem]</td>\n",
              "    </tr>\n",
              "  </tbody>\n",
              "</table>\n",
              "<p>222 rows × 2 columns</p>\n",
              "</div>\n",
              "      <button class=\"colab-df-convert\" onclick=\"convertToInteractive('df-1f5559a6-9d36-44cf-8479-e0730a2ec304')\"\n",
              "              title=\"Convert this dataframe to an interactive table.\"\n",
              "              style=\"display:none;\">\n",
              "        \n",
              "  <svg xmlns=\"http://www.w3.org/2000/svg\" height=\"24px\"viewBox=\"0 0 24 24\"\n",
              "       width=\"24px\">\n",
              "    <path d=\"M0 0h24v24H0V0z\" fill=\"none\"/>\n",
              "    <path d=\"M18.56 5.44l.94 2.06.94-2.06 2.06-.94-2.06-.94-.94-2.06-.94 2.06-2.06.94zm-11 1L8.5 8.5l.94-2.06 2.06-.94-2.06-.94L8.5 2.5l-.94 2.06-2.06.94zm10 10l.94 2.06.94-2.06 2.06-.94-2.06-.94-.94-2.06-.94 2.06-2.06.94z\"/><path d=\"M17.41 7.96l-1.37-1.37c-.4-.4-.92-.59-1.43-.59-.52 0-1.04.2-1.43.59L10.3 9.45l-7.72 7.72c-.78.78-.78 2.05 0 2.83L4 21.41c.39.39.9.59 1.41.59.51 0 1.02-.2 1.41-.59l7.78-7.78 2.81-2.81c.8-.78.8-2.07 0-2.86zM5.41 20L4 18.59l7.72-7.72 1.47 1.35L5.41 20z\"/>\n",
              "  </svg>\n",
              "      </button>\n",
              "      \n",
              "  <style>\n",
              "    .colab-df-container {\n",
              "      display:flex;\n",
              "      flex-wrap:wrap;\n",
              "      gap: 12px;\n",
              "    }\n",
              "\n",
              "    .colab-df-convert {\n",
              "      background-color: #E8F0FE;\n",
              "      border: none;\n",
              "      border-radius: 50%;\n",
              "      cursor: pointer;\n",
              "      display: none;\n",
              "      fill: #1967D2;\n",
              "      height: 32px;\n",
              "      padding: 0 0 0 0;\n",
              "      width: 32px;\n",
              "    }\n",
              "\n",
              "    .colab-df-convert:hover {\n",
              "      background-color: #E2EBFA;\n",
              "      box-shadow: 0px 1px 2px rgba(60, 64, 67, 0.3), 0px 1px 3px 1px rgba(60, 64, 67, 0.15);\n",
              "      fill: #174EA6;\n",
              "    }\n",
              "\n",
              "    [theme=dark] .colab-df-convert {\n",
              "      background-color: #3B4455;\n",
              "      fill: #D2E3FC;\n",
              "    }\n",
              "\n",
              "    [theme=dark] .colab-df-convert:hover {\n",
              "      background-color: #434B5C;\n",
              "      box-shadow: 0px 1px 3px 1px rgba(0, 0, 0, 0.15);\n",
              "      filter: drop-shadow(0px 1px 2px rgba(0, 0, 0, 0.3));\n",
              "      fill: #FFFFFF;\n",
              "    }\n",
              "  </style>\n",
              "\n",
              "      <script>\n",
              "        const buttonEl =\n",
              "          document.querySelector('#df-1f5559a6-9d36-44cf-8479-e0730a2ec304 button.colab-df-convert');\n",
              "        buttonEl.style.display =\n",
              "          google.colab.kernel.accessAllowed ? 'block' : 'none';\n",
              "\n",
              "        async function convertToInteractive(key) {\n",
              "          const element = document.querySelector('#df-1f5559a6-9d36-44cf-8479-e0730a2ec304');\n",
              "          const dataTable =\n",
              "            await google.colab.kernel.invokeFunction('convertToInteractive',\n",
              "                                                     [key], {});\n",
              "          if (!dataTable) return;\n",
              "\n",
              "          const docLinkHtml = 'Like what you see? Visit the ' +\n",
              "            '<a target=\"_blank\" href=https://colab.research.google.com/notebooks/data_table.ipynb>data table notebook</a>'\n",
              "            + ' to learn more about interactive tables.';\n",
              "          element.innerHTML = '';\n",
              "          dataTable['output_type'] = 'display_data';\n",
              "          await google.colab.output.renderOutput(dataTable, element);\n",
              "          const docLink = document.createElement('div');\n",
              "          docLink.innerHTML = docLinkHtml;\n",
              "          element.appendChild(docLink);\n",
              "        }\n",
              "      </script>\n",
              "    </div>\n",
              "  </div>\n",
              "  "
            ]
          },
          "metadata": {},
          "execution_count": 75
        }
      ],
      "source": [
        "top_k = 1\n",
        "\n",
        "# GET TOP K PREDICTIONS\n",
        "preds=get_top_k_predictions(model,X_test,top_k)\n",
        "    \n",
        "# GET PREDICTED VALUES AND GROUND TRUTH INTO A LIST OF LISTS    \n",
        "result = pd.DataFrame(Y_test,columns=['test'])\n",
        "result['pred'] = preds\n",
        "result"
      ]
    },
    {
      "cell_type": "markdown",
      "id": "1da3a2e3",
      "metadata": {
        "id": "1da3a2e3"
      },
      "source": [
        "# Evaluation (Accuracy)"
      ]
    },
    {
      "cell_type": "code",
      "execution_count": null,
      "id": "61c0abe2",
      "metadata": {
        "colab": {
          "base_uri": "https://localhost:8080/"
        },
        "id": "61c0abe2",
        "outputId": "e02d168d-97ce-4294-a18d-e419dad56a53"
      },
      "outputs": [
        {
          "output_type": "stream",
          "name": "stdout",
          "text": [
            "0.7612612612612613\n"
          ]
        },
        {
          "output_type": "execute_result",
          "data": {
            "text/plain": [
              "0.7612612612612613"
            ]
          },
          "metadata": {},
          "execution_count": 76
        }
      ],
      "source": [
        "# GET EVALUATION NUMBERS ON TEST SET -- HOW DID WE DO?\n",
        "print(accuracy_score(Y_test, preds))\n",
        "cm = confusion_matrix(Y_test,preds)\n",
        "\n",
        "f1_score(Y_test, preds, average='micro')"
      ]
    },
    {
      "cell_type": "code",
      "execution_count": null,
      "id": "4a9b2cac",
      "metadata": {
        "colab": {
          "base_uri": "https://localhost:8080/",
          "height": 297
        },
        "id": "4a9b2cac",
        "outputId": "57ecb70e-dec2-48f9-cbb9-dad824594394"
      },
      "outputs": [
        {
          "output_type": "execute_result",
          "data": {
            "text/plain": [
              "<sklearn.metrics._plot.confusion_matrix.ConfusionMatrixDisplay at 0x7f607558e610>"
            ]
          },
          "metadata": {},
          "execution_count": 77
        },
        {
          "output_type": "display_data",
          "data": {
            "text/plain": [
              "<Figure size 432x288 with 2 Axes>"
            ],
            "image/png": "[encoded data removed]"
          },
          "metadata": {
            "needs_background": "light"
          }
        }
      ],
      "source": [
        "disp = ConfusionMatrixDisplay(confusion_matrix=cm,display_labels=model.classes_)\n",
        "disp.plot()"
      ]
    },
    {
      "cell_type": "markdown",
      "id": "972f4028",
      "metadata": {
        "id": "972f4028"
      },
      "source": [
        "# Cross Validation\n",
        "How well could we conceivably do? Looks like we have the potential for 93% accuracy, likely if we get more data"
      ]
    },
    {
      "cell_type": "code",
      "execution_count": null,
      "id": "5d3c916e",
      "metadata": {
        "colab": {
          "base_uri": "https://localhost:8080/"
        },
        "id": "5d3c916e",
        "outputId": "a10bc801-ce4b-402c-b939-99dd59b87212"
      },
      "outputs": [
        {
          "output_type": "stream",
          "name": "stdout",
          "text": [
            "[LibLinear][LibLinear][LibLinear][LibLinear][LibLinear][LibLinear][LibLinear][LibLinear][LibLinear][LibLinear]Cross-Validation Accuracy Scores [0.73134328 0.7761194  0.73134328 0.7761194  0.74626866 0.78787879\n",
            " 0.74242424 0.75757576 0.74242424 0.72727273]\n"
          ]
        }
      ],
      "source": [
        "from sklearn.model_selection import cross_val_score\n",
        "\n",
        "scores = cross_val_score(scikit_log_reg, X_train, Y_train, cv=10)\n",
        "print('Cross-Validation Accuracy Scores', scores)"
      ]
    },
    {
      "cell_type": "code",
      "source": [
        "scores.mean()"
      ],
      "metadata": {
        "colab": {
          "base_uri": "https://localhost:8080/"
        },
        "id": "S06_pJHKuqZH",
        "outputId": "33effc1b-73dd-4970-99d5-c16a80f739bd"
      },
      "id": "S06_pJHKuqZH",
      "execution_count": null,
      "outputs": [
        {
          "output_type": "execute_result",
          "data": {
            "text/plain": [
              "0.7518769787426505"
            ]
          },
          "metadata": {},
          "execution_count": 79
        }
      ]
    },
    {
      "cell_type": "markdown",
      "source": [
        "# **Naive Bayes**"
      ],
      "metadata": {
        "id": "I6S4Q14FyTQ3"
      },
      "id": "I6S4Q14FyTQ3"
    },
    {
      "cell_type": "code",
      "source": [
        "from sklearn.naive_bayes import MultinomialNB\n",
        "\n",
        "# Train the Naive classifier\n",
        "nb_classifier = MultinomialNB(alpha = .05)\n",
        "nb_classifier.fit(X_train, Y_train)\n",
        "\n",
        "# Make predictions on the test set\n",
        "y_pred = nb_classifier.predict(X_test)\n",
        "\n",
        "# Evaluate the model's accuracy\n",
        "accuracy = np.mean(y_pred == Y_test)\n",
        "print(\"Accuracy:\", accuracy)"
      ],
      "metadata": {
        "id": "Fgv2Ylxvo7-u",
        "colab": {
          "base_uri": "https://localhost:8080/"
        },
        "outputId": "169a5a29-59bc-47e6-c86e-e139a7da5f71"
      },
      "id": "Fgv2Ylxvo7-u",
      "execution_count": null,
      "outputs": [
        {
          "output_type": "stream",
          "name": "stdout",
          "text": [
            "Accuracy: 0.7567567567567568\n"
          ]
        }
      ]
    },
    {
      "cell_type": "markdown",
      "source": [
        "# **Random Forest**"
      ],
      "metadata": {
        "id": "2qG-j3_myZkc"
      },
      "id": "2qG-j3_myZkc"
    },
    {
      "cell_type": "code",
      "source": [
        "import numpy as np\n",
        "from sklearn.ensemble import RandomForestClassifier\n",
        "\n",
        "# Train the Random Forest classifier\n",
        "clf = RandomForestClassifier(n_estimators=100, random_state=42)\n",
        "clf.fit(X_train, Y_train)\n",
        "\n",
        "# Make predictions on the test set\n",
        "y_pred = clf.predict(X_test)\n",
        "\n",
        "# Evaluate the model's accuracy\n",
        "accuracy = np.mean(y_pred == Y_test)\n",
        "print(\"Accuracy:\", accuracy)"
      ],
      "metadata": {
        "id": "kVItcQlpzCPf",
        "colab": {
          "base_uri": "https://localhost:8080/"
        },
        "outputId": "3bb24c96-209f-4eac-a093-131e4c1df015"
      },
      "id": "kVItcQlpzCPf",
      "execution_count": null,
      "outputs": [
        {
          "output_type": "stream",
          "name": "stdout",
          "text": [
            "Accuracy: 0.8063063063063063\n"
          ]
        }
      ]
    },
    {
      "cell_type": "markdown",
      "source": [
        "# **XGBoost**"
      ],
      "metadata": {
        "id": "oxEmUb1ny_Wh"
      },
      "id": "oxEmUb1ny_Wh"
    },
    {
      "cell_type": "code",
      "source": [
        "import numpy as np\n",
        "from xgboost import XGBClassifier\n",
        "\n",
        "from sklearn.preprocessing import LabelEncoder\n",
        "le = LabelEncoder()\n",
        "y_train = le.fit_transform(Y_train)\n",
        "y_test = le.fit_transform(Y_test)\n",
        "\n",
        "# Train the XGBoost classifier\n",
        "clf = XGBClassifier(random_state=42)\n",
        "clf.fit(X_train, y_train)\n",
        "\n",
        "# Make predictions on the test set\n",
        "y_pred = clf.predict(X_test)\n",
        "\n",
        "# Evaluate the model's accuracy\n",
        "accuracy = np.mean(y_pred == y_test)\n",
        "print(\"Accuracy:\", accuracy)"
      ],
      "metadata": {
        "id": "oRR1X9rDyYu-",
        "colab": {
          "base_uri": "https://localhost:8080/"
        },
        "outputId": "e1d24fc4-33a4-4ea1-c280-590ce76739ba"
      },
      "id": "oRR1X9rDyYu-",
      "execution_count": null,
      "outputs": [
        {
          "output_type": "stream",
          "name": "stdout",
          "text": [
            "Accuracy: 0.7837837837837838\n"
          ]
        }
      ]
    }
  ],
  "metadata": {
    "kernelspec": {
      "display_name": "Python 3",
      "language": "python",
      "name": "python3"
    },
    "language_info": {
      "codemirror_mode": {
        "name": "ipython",
        "version": 3
      },
      "file_extension": ".py",
      "mimetype": "text/x-python",
      "name": "python",
      "nbconvert_exporter": "python",
      "pygments_lexer": "ipython3",
      "version": "3.8.8"
    },
    "colab": {
      "provenance": []
    }
  },
  "nbformat": 4,
  "nbformat_minor": 5
}